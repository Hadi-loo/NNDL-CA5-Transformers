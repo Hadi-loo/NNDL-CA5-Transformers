{
 "cells": [
  {
   "cell_type": "markdown",
   "id": "a58d2060",
   "metadata": {
    "papermill": {
     "duration": 0.012813,
     "end_time": "2024-01-07T10:35:47.284826",
     "exception": false,
     "start_time": "2024-01-07T10:35:47.272013",
     "status": "completed"
    },
    "tags": []
   },
   "source": [
    "# Speech Emotion Recognition"
   ]
  },
  {
   "cell_type": "markdown",
   "id": "fcc85f8a",
   "metadata": {
    "papermill": {
     "duration": 0.01223,
     "end_time": "2024-01-07T10:35:47.309747",
     "exception": false,
     "start_time": "2024-01-07T10:35:47.297517",
     "status": "completed"
    },
    "tags": []
   },
   "source": [
    "## Importing Libraries"
   ]
  },
  {
   "cell_type": "code",
   "execution_count": 1,
   "id": "cb7d20d6",
   "metadata": {
    "execution": {
     "iopub.execute_input": "2024-01-07T10:35:47.335475Z",
     "iopub.status.busy": "2024-01-07T10:35:47.335180Z",
     "iopub.status.idle": "2024-01-07T10:35:55.168285Z",
     "shell.execute_reply": "2024-01-07T10:35:55.167530Z"
    },
    "papermill": {
     "duration": 7.848413,
     "end_time": "2024-01-07T10:35:55.170634",
     "exception": false,
     "start_time": "2024-01-07T10:35:47.322221",
     "status": "completed"
    },
    "tags": []
   },
   "outputs": [
    {
     "name": "stderr",
     "output_type": "stream",
     "text": [
      "/opt/conda/lib/python3.10/site-packages/scipy/__init__.py:146: UserWarning: A NumPy version >=1.16.5 and <1.23.0 is required for this version of SciPy (detected version 1.24.3\n",
      "  warnings.warn(f\"A NumPy version >={np_minversion} and <{np_maxversion}\"\n"
     ]
    }
   ],
   "source": [
    "import numpy as np\n",
    "import pandas as pd\n",
    "import matplotlib.pyplot as plt\n",
    "import seaborn as sns\n",
    "import tqdm\n",
    "import os\n",
    "import librosa\n",
    "import random\n",
    "from pydub import AudioSegment\n",
    "\n",
    "from sklearn import preprocessing\n",
    "from sklearn.model_selection import train_test_split\n",
    "from sklearn.metrics import f1_score, classification_report\n",
    "from sklearn.metrics import confusion_matrix\n",
    "from sklearn.metrics import accuracy_score\n",
    "\n",
    "from transformers import AutoModel\n",
    "from transformers import Wav2Vec2FeatureExtractor\n",
    "\n",
    "import torch\n",
    "from torch import nn, optim\n",
    "import torch.nn.functional as F\n",
    "from torch.utils.data import Dataset, DataLoader, random_split\n",
    "from imblearn.over_sampling import RandomOverSampler\n",
    "from torchvision import transforms\n",
    "from torch.utils.data import ConcatDataset"
   ]
  },
  {
   "cell_type": "markdown",
   "id": "01fd74ac",
   "metadata": {
    "papermill": {
     "duration": 0.01191,
     "end_time": "2024-01-07T10:35:55.195255",
     "exception": false,
     "start_time": "2024-01-07T10:35:55.183345",
     "status": "completed"
    },
    "tags": []
   },
   "source": [
    "### Setting up the GPU"
   ]
  },
  {
   "cell_type": "code",
   "execution_count": 2,
   "id": "6d221a36",
   "metadata": {
    "execution": {
     "iopub.execute_input": "2024-01-07T10:35:55.221233Z",
     "iopub.status.busy": "2024-01-07T10:35:55.220800Z",
     "iopub.status.idle": "2024-01-07T10:35:55.306181Z",
     "shell.execute_reply": "2024-01-07T10:35:55.305168Z"
    },
    "papermill": {
     "duration": 0.100985,
     "end_time": "2024-01-07T10:35:55.308257",
     "exception": false,
     "start_time": "2024-01-07T10:35:55.207272",
     "status": "completed"
    },
    "tags": []
   },
   "outputs": [
    {
     "name": "stdout",
     "output_type": "stream",
     "text": [
      "cuda\n"
     ]
    }
   ],
   "source": [
    "device = torch.device(\"cuda\") if torch.cuda.is_available() else torch.device(\"cpu\")\n",
    "print(device)"
   ]
  },
  {
   "cell_type": "code",
   "execution_count": 3,
   "id": "ee6993d1",
   "metadata": {
    "execution": {
     "iopub.execute_input": "2024-01-07T10:35:55.333964Z",
     "iopub.status.busy": "2024-01-07T10:35:55.333685Z",
     "iopub.status.idle": "2024-01-07T10:35:55.340204Z",
     "shell.execute_reply": "2024-01-07T10:35:55.339428Z"
    },
    "papermill": {
     "duration": 0.021526,
     "end_time": "2024-01-07T10:35:55.342107",
     "exception": false,
     "start_time": "2024-01-07T10:35:55.320581",
     "status": "completed"
    },
    "tags": []
   },
   "outputs": [
    {
     "data": {
      "text/plain": [
       "['input_values', 'attention_mask']"
      ]
     },
     "execution_count": 3,
     "metadata": {},
     "output_type": "execute_result"
    }
   ],
   "source": [
    "Wav2Vec2FeatureExtractor.model_input_names"
   ]
  },
  {
   "cell_type": "code",
   "execution_count": 4,
   "id": "d9354702",
   "metadata": {
    "execution": {
     "iopub.execute_input": "2024-01-07T10:35:55.368172Z",
     "iopub.status.busy": "2024-01-07T10:35:55.367913Z",
     "iopub.status.idle": "2024-01-07T10:35:55.382967Z",
     "shell.execute_reply": "2024-01-07T10:35:55.382237Z"
    },
    "papermill": {
     "duration": 0.0302,
     "end_time": "2024-01-07T10:35:55.384885",
     "exception": false,
     "start_time": "2024-01-07T10:35:55.354685",
     "status": "completed"
    },
    "tags": []
   },
   "outputs": [],
   "source": [
    "# set random seed\n",
    "random_seed = 5\n",
    "torch.manual_seed(random_seed)\n",
    "random.seed(random_seed)\n",
    "np.random.seed(random_seed)"
   ]
  },
  {
   "cell_type": "markdown",
   "id": "3b322937",
   "metadata": {
    "papermill": {
     "duration": 0.013036,
     "end_time": "2024-01-07T10:35:55.411025",
     "exception": false,
     "start_time": "2024-01-07T10:35:55.397989",
     "status": "completed"
    },
    "tags": []
   },
   "source": [
    "## Introdcution to Speech Dataset"
   ]
  },
  {
   "cell_type": "markdown",
   "id": "27a61140",
   "metadata": {
    "papermill": {
     "duration": 0.01279,
     "end_time": "2024-01-07T10:35:55.436384",
     "exception": false,
     "start_time": "2024-01-07T10:35:55.423594",
     "status": "completed"
    },
    "tags": []
   },
   "source": [
    "### Data Processing"
   ]
  },
  {
   "cell_type": "code",
   "execution_count": 5,
   "id": "48be3fd1",
   "metadata": {
    "execution": {
     "iopub.execute_input": "2024-01-07T10:35:55.463284Z",
     "iopub.status.busy": "2024-01-07T10:35:55.462998Z",
     "iopub.status.idle": "2024-01-07T10:35:55.470095Z",
     "shell.execute_reply": "2024-01-07T10:35:55.469242Z"
    },
    "papermill": {
     "duration": 0.022455,
     "end_time": "2024-01-07T10:35:55.471931",
     "exception": false,
     "start_time": "2024-01-07T10:35:55.449476",
     "status": "completed"
    },
    "tags": []
   },
   "outputs": [],
   "source": [
    "def load_data(root_dir):\n",
    "    labels = []\n",
    "    emotion = []\n",
    "    speeches_path = []\n",
    "    name_to_label = {'A':'anger' , 'H':'happiness' , 'N':'neutral' ,\n",
    "                    'S':'sadness' , 'W':'surprise' , 'F':'fear' }\n",
    "    for filename in os.listdir(root_dir):\n",
    "            emotion_label = filename[3]\n",
    "            for key in name_to_label:\n",
    "                if key == emotion_label:\n",
    "                    emotion_label = name_to_label[key]\n",
    "            speeches_path.append(os.path.join(root_dir, filename))\n",
    "            labels.append(emotion_label)\n",
    "            emotion.append(emotion_label)\n",
    "    label_encoder = preprocessing.LabelEncoder()\n",
    "    labels = label_encoder.fit_transform(labels)\n",
    "    df = pd.DataFrame({\"path\": speeches_path, \"label\": labels, \"emotion\": emotion})\n",
    "    return df, label_encoder"
   ]
  },
  {
   "cell_type": "code",
   "execution_count": 6,
   "id": "fe88596b",
   "metadata": {
    "execution": {
     "iopub.execute_input": "2024-01-07T10:35:55.498505Z",
     "iopub.status.busy": "2024-01-07T10:35:55.498251Z",
     "iopub.status.idle": "2024-01-07T10:35:55.839661Z",
     "shell.execute_reply": "2024-01-07T10:35:55.838527Z"
    },
    "papermill": {
     "duration": 0.357309,
     "end_time": "2024-01-07T10:35:55.841818",
     "exception": false,
     "start_time": "2024-01-07T10:35:55.484509",
     "status": "completed"
    },
    "tags": []
   },
   "outputs": [
    {
     "name": "stdout",
     "output_type": "stream",
     "text": [
      "                                                   path  label   emotion\n",
      "0     /kaggle/input/shemo-persian-speech-emotion-det...      0     anger\n",
      "1     /kaggle/input/shemo-persian-speech-emotion-det...      0     anger\n",
      "2     /kaggle/input/shemo-persian-speech-emotion-det...      3   neutral\n",
      "3     /kaggle/input/shemo-persian-speech-emotion-det...      4   sadness\n",
      "4     /kaggle/input/shemo-persian-speech-emotion-det...      5  surprise\n",
      "...                                                 ...    ...       ...\n",
      "2995  /kaggle/input/shemo-persian-speech-emotion-det...      0     anger\n",
      "2996  /kaggle/input/shemo-persian-speech-emotion-det...      5  surprise\n",
      "2997  /kaggle/input/shemo-persian-speech-emotion-det...      3   neutral\n",
      "2998  /kaggle/input/shemo-persian-speech-emotion-det...      4   sadness\n",
      "2999  /kaggle/input/shemo-persian-speech-emotion-det...      0     anger\n",
      "\n",
      "[3000 rows x 3 columns]\n"
     ]
    }
   ],
   "source": [
    "# modify the root path based on your environment\n",
    "root_dir1 = '/kaggle/input/shemo-persian-speech-emotion-detection-database/female'\n",
    "root_dir2 = '/kaggle/input/shemo-persian-speech-emotion-detection-database/male'\n",
    "df1, label_encoder = load_data(root_dir1)\n",
    "df2, _ = load_data(root_dir2)\n",
    "df = pd.concat([df1, df2], ignore_index=True)\n",
    "print(df)"
   ]
  },
  {
   "cell_type": "markdown",
   "id": "ed93c0d6",
   "metadata": {
    "papermill": {
     "duration": 0.01333,
     "end_time": "2024-01-07T10:35:55.910267",
     "exception": false,
     "start_time": "2024-01-07T10:35:55.896937",
     "status": "completed"
    },
    "tags": []
   },
   "source": [
    "### Data Distribution"
   ]
  },
  {
   "cell_type": "code",
   "execution_count": 7,
   "id": "fac04c10",
   "metadata": {
    "execution": {
     "iopub.execute_input": "2024-01-07T10:35:55.937715Z",
     "iopub.status.busy": "2024-01-07T10:35:55.937338Z",
     "iopub.status.idle": "2024-01-07T10:35:55.945176Z",
     "shell.execute_reply": "2024-01-07T10:35:55.944271Z"
    },
    "papermill": {
     "duration": 0.023818,
     "end_time": "2024-01-07T10:35:55.947248",
     "exception": false,
     "start_time": "2024-01-07T10:35:55.923430",
     "status": "completed"
    },
    "tags": []
   },
   "outputs": [],
   "source": [
    "def data_distribution(df):\n",
    "    classes_counts = df.groupby('emotion').size().reset_index(name='count')\n",
    "    colors = plt.cm.rainbow(np.linspace(0, 1, len(classes_counts)))\n",
    "    plt.bar(classes_counts['emotion'], classes_counts['count'], color=colors)\n",
    "    for i, v in enumerate(classes_counts['count']):\n",
    "        plt.text(i, v + 5, str(v), ha='center', va='bottom', fontsize=8)\n",
    "    classes_names = df['emotion'].unique() \n",
    "    plt.xticks(classes_counts['emotion'], classes_names, size=10, rotation=45)\n",
    "    plt.xlabel('Class', size=12)\n",
    "    plt.ylabel('Frequency', size=12)\n",
    "    plt.title('Class Distribution of Dataset', size=13)\n",
    "    plt.show()"
   ]
  },
  {
   "cell_type": "code",
   "execution_count": 8,
   "id": "26ea271c",
   "metadata": {
    "execution": {
     "iopub.execute_input": "2024-01-07T10:35:55.974620Z",
     "iopub.status.busy": "2024-01-07T10:35:55.974345Z",
     "iopub.status.idle": "2024-01-07T10:35:56.207861Z",
     "shell.execute_reply": "2024-01-07T10:35:56.206987Z"
    },
    "papermill": {
     "duration": 0.249713,
     "end_time": "2024-01-07T10:35:56.209989",
     "exception": false,
     "start_time": "2024-01-07T10:35:55.960276",
     "status": "completed"
    },
    "tags": []
   },
   "outputs": [
    {
     "data": {
      "image/png": "[encoded data removed]",
      "text/plain": [
       "<Figure size 640x480 with 1 Axes>"
      ]
     },
     "metadata": {},
     "output_type": "display_data"
    }
   ],
   "source": [
    "data_distribution(df)"
   ]
  },
  {
   "cell_type": "markdown",
   "id": "632d49d2",
   "metadata": {
    "papermill": {
     "duration": 0.013565,
     "end_time": "2024-01-07T10:35:56.236957",
     "exception": false,
     "start_time": "2024-01-07T10:35:56.223392",
     "status": "completed"
    },
    "tags": []
   },
   "source": [
    "### Audio Duration Distribution "
   ]
  },
  {
   "cell_type": "code",
   "execution_count": 9,
   "id": "0beb45db",
   "metadata": {
    "execution": {
     "iopub.execute_input": "2024-01-07T10:35:56.265591Z",
     "iopub.status.busy": "2024-01-07T10:35:56.265229Z",
     "iopub.status.idle": "2024-01-07T10:35:56.272610Z",
     "shell.execute_reply": "2024-01-07T10:35:56.271758Z"
    },
    "papermill": {
     "duration": 0.023771,
     "end_time": "2024-01-07T10:35:56.274540",
     "exception": false,
     "start_time": "2024-01-07T10:35:56.250769",
     "status": "completed"
    },
    "tags": []
   },
   "outputs": [],
   "source": [
    "def audio_duration_distribution(df):\n",
    "    durations = []\n",
    "    all_sample_rates = set()\n",
    "    for path in df['path']:\n",
    "        audio, sr = librosa.load(path, sr=None)\n",
    "        duration = librosa.get_duration(y=audio)\n",
    "        durations.append(duration)\n",
    "        all_sample_rates.add(sr)\n",
    "        \n",
    "    plt.hist(durations, bins=50, edgecolor='black')\n",
    "    plt.title('Audio Duration Distribution', size=13)\n",
    "    plt.xlabel('Duration (seconds)', size=12)\n",
    "    plt.ylabel('Count', size=12)\n",
    "    plt.show()\n",
    "    \n",
    "    mean_length = np.mean(durations)\n",
    "    std_length = np.std(durations)\n",
    "\n",
    "    print(f'Mean Length: {mean_length:.2f}')\n",
    "    print(f'Standard Deviation of Length: {std_length:.2f}')\n"
   ]
  },
  {
   "cell_type": "code",
   "execution_count": 10,
   "id": "14995542",
   "metadata": {
    "execution": {
     "iopub.execute_input": "2024-01-07T10:35:56.301928Z",
     "iopub.status.busy": "2024-01-07T10:35:56.301639Z",
     "iopub.status.idle": "2024-01-07T10:36:35.077582Z",
     "shell.execute_reply": "2024-01-07T10:36:35.076730Z"
    },
    "papermill": {
     "duration": 38.806677,
     "end_time": "2024-01-07T10:36:35.094506",
     "exception": false,
     "start_time": "2024-01-07T10:35:56.287829",
     "status": "completed"
    },
    "tags": []
   },
   "outputs": [
    {
     "data": {
      "image/png": "[encoded data removed]",
      "text/plain": [
       "<Figure size 640x480 with 1 Axes>"
      ]
     },
     "metadata": {},
     "output_type": "display_data"
    },
    {
     "name": "stdout",
     "output_type": "stream",
     "text": [
      "Mean Length: 8.03\n",
      "Standard Deviation of Length: 6.82\n"
     ]
    }
   ],
   "source": [
    "audio_duration_distribution(df)"
   ]
  },
  {
   "cell_type": "code",
   "execution_count": 11,
   "id": "6eae3ad3",
   "metadata": {
    "execution": {
     "iopub.execute_input": "2024-01-07T10:36:35.123311Z",
     "iopub.status.busy": "2024-01-07T10:36:35.122890Z",
     "iopub.status.idle": "2024-01-07T10:36:35.132261Z",
     "shell.execute_reply": "2024-01-07T10:36:35.131435Z"
    },
    "papermill": {
     "duration": 0.02555,
     "end_time": "2024-01-07T10:36:35.134050",
     "exception": false,
     "start_time": "2024-01-07T10:36:35.108500",
     "status": "completed"
    },
    "tags": []
   },
   "outputs": [],
   "source": [
    "def audio_duration_distribution_by_class(df):\n",
    "    class_durations = {0: [], 1: [], 2: [], 3: [], 4: [], 5: []} \n",
    "    label_to_emotion = {0: [], 1: [], 2: [], 3: [], 4: [], 5: []} \n",
    "\n",
    "    for index, row in df.iterrows():\n",
    "        path = row['path']\n",
    "        label = row['label']\n",
    "        emotion = row['emotion']\n",
    "        \n",
    "        audio, sr = librosa.load(path, sr=None)\n",
    "        duration = librosa.get_duration(y=audio)\n",
    "        class_durations[label].append(duration)\n",
    "        label_to_emotion[label] = emotion\n",
    "\n",
    "    for label, durations in class_durations.items():\n",
    "        plt.hist(durations, bins=50, edgecolor='black')\n",
    "\n",
    "        mean_length = np.mean(durations)\n",
    "        std_length = np.std(durations)\n",
    "        emotion = label_to_emotion.get(label)\n",
    "        print(f'Class : {emotion}')\n",
    "        title = 'Audio Duration Distribution by Class ' + emotion\n",
    "        plt.title(title, size=13)\n",
    "        plt.xlabel('Duration (seconds)', size=12)\n",
    "        plt.ylabel('Count', size=12)\n",
    "        plt.show()\n",
    "        print(f'Mean Length: {mean_length:.2f}')\n",
    "        print(f'Standard Deviation of Length: {std_length:.2f}')\n",
    "        print()"
   ]
  },
  {
   "cell_type": "code",
   "execution_count": 12,
   "id": "a98a4b8d",
   "metadata": {
    "execution": {
     "iopub.execute_input": "2024-01-07T10:36:35.161799Z",
     "iopub.status.busy": "2024-01-07T10:36:35.161510Z",
     "iopub.status.idle": "2024-01-07T10:36:44.109429Z",
     "shell.execute_reply": "2024-01-07T10:36:44.108530Z"
    },
    "papermill": {
     "duration": 8.964168,
     "end_time": "2024-01-07T10:36:44.111511",
     "exception": false,
     "start_time": "2024-01-07T10:36:35.147343",
     "status": "completed"
    },
    "tags": []
   },
   "outputs": [
    {
     "name": "stdout",
     "output_type": "stream",
     "text": [
      "Class : anger\n"
     ]
    },
    {
     "data": {
      "image/png": "[encoded data removed]",
      "text/plain": [
       "<Figure size 640x480 with 1 Axes>"
      ]
     },
     "metadata": {},
     "output_type": "display_data"
    },
    {
     "name": "stdout",
     "output_type": "stream",
     "text": [
      "Mean Length: 7.19\n",
      "Standard Deviation of Length: 5.27\n",
      "\n",
      "Class : fear\n"
     ]
    },
    {
     "data": {
      "image/png": "[encoded data removed]",
      "text/plain": [
       "<Figure size 640x480 with 1 Axes>"
      ]
     },
     "metadata": {},
     "output_type": "display_data"
    },
    {
     "name": "stdout",
     "output_type": "stream",
     "text": [
      "Mean Length: 6.28\n",
      "Standard Deviation of Length: 3.68\n",
      "\n",
      "Class : happiness\n"
     ]
    },
    {
     "data": {
      "image/png": "[encoded data removed]",
      "text/plain": [
       "<Figure size 640x480 with 1 Axes>"
      ]
     },
     "metadata": {},
     "output_type": "display_data"
    },
    {
     "name": "stdout",
     "output_type": "stream",
     "text": [
      "Mean Length: 7.59\n",
      "Standard Deviation of Length: 4.72\n",
      "\n",
      "Class : neutral\n"
     ]
    },
    {
     "data": {
      "image/png": "[encoded data removed]",
      "text/plain": [
       "<Figure size 640x480 with 1 Axes>"
      ]
     },
     "metadata": {},
     "output_type": "display_data"
    },
    {
     "name": "stdout",
     "output_type": "stream",
     "text": [
      "Mean Length: 9.34\n",
      "Standard Deviation of Length: 8.28\n",
      "\n",
      "Class : sadness\n"
     ]
    },
    {
     "data": {
      "image/png": "[encoded data removed]",
      "text/plain": [
       "<Figure size 640x480 with 1 Axes>"
      ]
     },
     "metadata": {},
     "output_type": "display_data"
    },
    {
     "name": "stdout",
     "output_type": "stream",
     "text": [
      "Mean Length: 9.63\n",
      "Standard Deviation of Length: 7.39\n",
      "\n",
      "Class : surprise\n"
     ]
    },
    {
     "data": {
      "image/png": "[encoded data removed]",
      "text/plain": [
       "<Figure size 640x480 with 1 Axes>"
      ]
     },
     "metadata": {},
     "output_type": "display_data"
    },
    {
     "name": "stdout",
     "output_type": "stream",
     "text": [
      "Mean Length: 3.54\n",
      "Standard Deviation of Length: 2.92\n",
      "\n"
     ]
    }
   ],
   "source": [
    "audio_duration_distribution_by_class(df)"
   ]
  },
  {
   "cell_type": "markdown",
   "id": "22dc6727",
   "metadata": {
    "papermill": {
     "duration": 0.015979,
     "end_time": "2024-01-07T10:36:44.144102",
     "exception": false,
     "start_time": "2024-01-07T10:36:44.128123",
     "status": "completed"
    },
    "tags": []
   },
   "source": [
    "### Data Balancing"
   ]
  },
  {
   "cell_type": "markdown",
   "id": "b0a68859",
   "metadata": {
    "papermill": {
     "duration": 0.015882,
     "end_time": "2024-01-07T10:36:44.176375",
     "exception": false,
     "start_time": "2024-01-07T10:36:44.160493",
     "status": "completed"
    },
    "tags": []
   },
   "source": [
    "Function to apply time stretching, pitch shifting, and noise injection for data augementation and balancing"
   ]
  },
  {
   "cell_type": "code",
   "execution_count": 13,
   "id": "ec304775",
   "metadata": {
    "execution": {
     "iopub.execute_input": "2024-01-07T10:36:44.210271Z",
     "iopub.status.busy": "2024-01-07T10:36:44.209731Z",
     "iopub.status.idle": "2024-01-07T10:36:44.415135Z",
     "shell.execute_reply": "2024-01-07T10:36:44.414352Z"
    },
    "papermill": {
     "duration": 0.224464,
     "end_time": "2024-01-07T10:36:44.417135",
     "exception": false,
     "start_time": "2024-01-07T10:36:44.192671",
     "status": "completed"
    },
    "tags": []
   },
   "outputs": [
    {
     "data": {
      "text/html": [
       "\n",
       "                    <audio controls>\n",
       "                        <source src=\"data:audio/mpeg;base64,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\" type=\"audio/mpeg\"/>\n",
       "                        Your browser does not support the audio element.\n",
       "                    </audio>\n",
       "                  "
      ],
      "text/plain": [
       "<pydub.audio_segment.AudioSegment at 0x7fd16046aaa0>"
      ]
     },
     "execution_count": 13,
     "metadata": {},
     "output_type": "execute_result"
    }
   ],
   "source": [
    "audio = AudioSegment.from_file('/kaggle/input/shemo-persian-speech-emotion-detection-database/female/F01A01.wav')\n",
    "audio"
   ]
  },
  {
   "cell_type": "code",
   "execution_count": 14,
   "id": "e8082b57",
   "metadata": {
    "execution": {
     "iopub.execute_input": "2024-01-07T10:36:44.452388Z",
     "iopub.status.busy": "2024-01-07T10:36:44.451840Z",
     "iopub.status.idle": "2024-01-07T10:36:44.458368Z",
     "shell.execute_reply": "2024-01-07T10:36:44.457580Z"
    },
    "papermill": {
     "duration": 0.026039,
     "end_time": "2024-01-07T10:36:44.460327",
     "exception": false,
     "start_time": "2024-01-07T10:36:44.434288",
     "status": "completed"
    },
    "tags": []
   },
   "outputs": [],
   "source": [
    "def time_stretch(audio, factor):\n",
    "    return audio.speedup(playback_speed=factor)\n",
    "\n",
    "def pitch_shift(audio, semitones):\n",
    "    return audio._spawn(audio.raw_data, overrides={\n",
    "        \"frame_rate\": int(audio.frame_rate * (2 ** (semitones / 12.0)))\n",
    "    })\n",
    "\n",
    "def augment_audio(audio_path):\n",
    "    audio = AudioSegment.from_file(audio_path)\n",
    "\n",
    "    if random.choice([True, False]):\n",
    "        audio = time_stretch(audio, random.uniform(0.8, 1.2))\n",
    "\n",
    "    if random.choice([True, False]):\n",
    "        audio = pitch_shift(audio, random.uniform(-2, 2))\n",
    "\n",
    "    return audio"
   ]
  },
  {
   "cell_type": "code",
   "execution_count": 15,
   "id": "be405d26",
   "metadata": {
    "execution": {
     "iopub.execute_input": "2024-01-07T10:36:44.495291Z",
     "iopub.status.busy": "2024-01-07T10:36:44.495030Z",
     "iopub.status.idle": "2024-01-07T10:36:44.504046Z",
     "shell.execute_reply": "2024-01-07T10:36:44.503160Z"
    },
    "papermill": {
     "duration": 0.028185,
     "end_time": "2024-01-07T10:36:44.505999",
     "exception": false,
     "start_time": "2024-01-07T10:36:44.477814",
     "status": "completed"
    },
    "tags": []
   },
   "outputs": [
    {
     "name": "stdout",
     "output_type": "stream",
     "text": [
      "{'anger': 0, 'neutral': 31, 'sadness': 610, 'surprise': 834, 'happiness': 858, 'fear': 1021}\n"
     ]
    }
   ],
   "source": [
    "# Calculate the number of augmentations needed for each emotion\n",
    "target_samples_per_emotion = 1059\n",
    "emotion_counts = df['emotion'].value_counts()\n",
    "augmentation_counts = {emotion: max(0, target_samples_per_emotion - count) for emotion, count in emotion_counts.items()}\n",
    "print(augmentation_counts)"
   ]
  },
  {
   "cell_type": "code",
   "execution_count": 16,
   "id": "2a07813e",
   "metadata": {
    "execution": {
     "iopub.execute_input": "2024-01-07T10:36:44.540330Z",
     "iopub.status.busy": "2024-01-07T10:36:44.539804Z",
     "iopub.status.idle": "2024-01-07T10:39:29.274679Z",
     "shell.execute_reply": "2024-01-07T10:39:29.273706Z"
    },
    "papermill": {
     "duration": 164.754839,
     "end_time": "2024-01-07T10:39:29.277269",
     "exception": false,
     "start_time": "2024-01-07T10:36:44.522430",
     "status": "completed"
    },
    "tags": []
   },
   "outputs": [],
   "source": [
    "augmented_data = []\n",
    "for emotion, count in augmentation_counts.items():\n",
    "    samples_to_augment = df[df['emotion'] == emotion].sample(count, replace=True)\n",
    "    for index, row in samples_to_augment.iterrows():\n",
    "        augmented_audio = augment_audio(row['path'])\n",
    "        name = row['path'].split('/')[-1]\n",
    "        augmented_data.append({'path': f\"augmented_{name}\", 'label': row['label'], 'emotion': row['emotion']})\n",
    "        augmented_audio.export(f\"augmented_{name}\", format=\"wav\")"
   ]
  },
  {
   "cell_type": "code",
   "execution_count": 17,
   "id": "575c8a54",
   "metadata": {
    "execution": {
     "iopub.execute_input": "2024-01-07T10:39:29.313023Z",
     "iopub.status.busy": "2024-01-07T10:39:29.312667Z",
     "iopub.status.idle": "2024-01-07T10:39:29.328361Z",
     "shell.execute_reply": "2024-01-07T10:39:29.326836Z"
    },
    "papermill": {
     "duration": 0.036035,
     "end_time": "2024-01-07T10:39:29.330881",
     "exception": false,
     "start_time": "2024-01-07T10:39:29.294846",
     "status": "completed"
    },
    "tags": []
   },
   "outputs": [
    {
     "name": "stdout",
     "output_type": "stream",
     "text": [
      "                                                   path  label   emotion\n",
      "0     /kaggle/input/shemo-persian-speech-emotion-det...      0     anger\n",
      "1     /kaggle/input/shemo-persian-speech-emotion-det...      0     anger\n",
      "2     /kaggle/input/shemo-persian-speech-emotion-det...      3   neutral\n",
      "3     /kaggle/input/shemo-persian-speech-emotion-det...      4   sadness\n",
      "4     /kaggle/input/shemo-persian-speech-emotion-det...      5  surprise\n",
      "...                                                 ...    ...       ...\n",
      "6349                               augmented_M03F01.wav      1      fear\n",
      "6350                               augmented_M44F01.wav      1      fear\n",
      "6351                               augmented_F24F02.wav      1      fear\n",
      "6352                               augmented_F16F01.wav      1      fear\n",
      "6353                               augmented_M05F01.wav      1      fear\n",
      "\n",
      "[6354 rows x 3 columns]\n"
     ]
    }
   ],
   "source": [
    "balanced_df = pd.DataFrame(augmented_data)\n",
    "balanced_df = pd.concat([df, balanced_df], ignore_index=True)\n",
    "print(balanced_df)"
   ]
  },
  {
   "cell_type": "code",
   "execution_count": 18,
   "id": "3ed9dc88",
   "metadata": {
    "execution": {
     "iopub.execute_input": "2024-01-07T10:39:29.375858Z",
     "iopub.status.busy": "2024-01-07T10:39:29.375203Z",
     "iopub.status.idle": "2024-01-07T10:39:29.660240Z",
     "shell.execute_reply": "2024-01-07T10:39:29.656760Z"
    },
    "papermill": {
     "duration": 0.31338,
     "end_time": "2024-01-07T10:39:29.662979",
     "exception": false,
     "start_time": "2024-01-07T10:39:29.349599",
     "status": "completed"
    },
    "tags": []
   },
   "outputs": [
    {
     "data": {
      "image/png": "[encoded data removed]",
      "text/plain": [
       "<Figure size 640x480 with 1 Axes>"
      ]
     },
     "metadata": {},
     "output_type": "display_data"
    }
   ],
   "source": [
    "data_distribution(balanced_df)"
   ]
  },
  {
   "cell_type": "code",
   "execution_count": 19,
   "id": "23853112",
   "metadata": {
    "execution": {
     "iopub.execute_input": "2024-01-07T10:39:29.709506Z",
     "iopub.status.busy": "2024-01-07T10:39:29.709115Z",
     "iopub.status.idle": "2024-01-07T10:39:40.212585Z",
     "shell.execute_reply": "2024-01-07T10:39:40.211718Z"
    },
    "papermill": {
     "duration": 10.529823,
     "end_time": "2024-01-07T10:39:40.214961",
     "exception": false,
     "start_time": "2024-01-07T10:39:29.685138",
     "status": "completed"
    },
    "tags": []
   },
   "outputs": [
    {
     "data": {
      "image/png": "[encoded data removed]",
      "text/plain": [
       "<Figure size 640x480 with 1 Axes>"
      ]
     },
     "metadata": {},
     "output_type": "display_data"
    },
    {
     "name": "stdout",
     "output_type": "stream",
     "text": [
      "Mean Length: 6.48\n",
      "Standard Deviation of Length: 6.05\n"
     ]
    }
   ],
   "source": [
    "audio_duration_distribution(balanced_df)"
   ]
  },
  {
   "cell_type": "code",
   "execution_count": 20,
   "id": "bc924ac5",
   "metadata": {
    "execution": {
     "iopub.execute_input": "2024-01-07T10:39:40.254110Z",
     "iopub.status.busy": "2024-01-07T10:39:40.253813Z",
     "iopub.status.idle": "2024-01-07T10:39:52.556800Z",
     "shell.execute_reply": "2024-01-07T10:39:52.555733Z"
    },
    "papermill": {
     "duration": 12.325126,
     "end_time": "2024-01-07T10:39:52.559709",
     "exception": false,
     "start_time": "2024-01-07T10:39:40.234583",
     "status": "completed"
    },
    "tags": []
   },
   "outputs": [
    {
     "name": "stdout",
     "output_type": "stream",
     "text": [
      "Class : anger\n"
     ]
    },
    {
     "data": {
      "image/png": "[encoded data removed]",
      "text/plain": [
       "<Figure size 640x480 with 1 Axes>"
      ]
     },
     "metadata": {},
     "output_type": "display_data"
    },
    {
     "name": "stdout",
     "output_type": "stream",
     "text": [
      "Mean Length: 7.19\n",
      "Standard Deviation of Length: 5.27\n",
      "\n",
      "Class : fear\n"
     ]
    },
    {
     "data": {
      "image/png": "[encoded data removed]",
      "text/plain": [
       "<Figure size 640x480 with 1 Axes>"
      ]
     },
     "metadata": {},
     "output_type": "display_data"
    },
    {
     "name": "stdout",
     "output_type": "stream",
     "text": [
      "Mean Length: 5.51\n",
      "Standard Deviation of Length: 3.98\n",
      "\n",
      "Class : happiness\n"
     ]
    },
    {
     "data": {
      "image/png": "[encoded data removed]",
      "text/plain": [
       "<Figure size 640x480 with 1 Axes>"
      ]
     },
     "metadata": {},
     "output_type": "display_data"
    },
    {
     "name": "stdout",
     "output_type": "stream",
     "text": [
      "Mean Length: 5.88\n",
      "Standard Deviation of Length: 4.57\n",
      "\n",
      "Class : neutral\n"
     ]
    },
    {
     "data": {
      "image/png": "[encoded data removed]",
      "text/plain": [
       "<Figure size 640x480 with 1 Axes>"
      ]
     },
     "metadata": {},
     "output_type": "display_data"
    },
    {
     "name": "stdout",
     "output_type": "stream",
     "text": [
      "Mean Length: 9.33\n",
      "Standard Deviation of Length: 8.29\n",
      "\n",
      "Class : sadness\n"
     ]
    },
    {
     "data": {
      "image/png": "[encoded data removed]",
      "text/plain": [
       "<Figure size 640x480 with 1 Axes>"
      ]
     },
     "metadata": {},
     "output_type": "display_data"
    },
    {
     "name": "stdout",
     "output_type": "stream",
     "text": [
      "Mean Length: 8.20\n",
      "Standard Deviation of Length: 7.26\n",
      "\n",
      "Class : surprise\n"
     ]
    },
    {
     "data": {
      "image/png": "[encoded data removed]",
      "text/plain": [
       "<Figure size 640x480 with 1 Axes>"
      ]
     },
     "metadata": {},
     "output_type": "display_data"
    },
    {
     "name": "stdout",
     "output_type": "stream",
     "text": [
      "Mean Length: 2.74\n",
      "Standard Deviation of Length: 2.54\n",
      "\n"
     ]
    }
   ],
   "source": [
    "audio_duration_distribution_by_class(balanced_df)"
   ]
  },
  {
   "cell_type": "markdown",
   "id": "f1322d7f",
   "metadata": {
    "papermill": {
     "duration": 0.023459,
     "end_time": "2024-01-07T10:39:52.607370",
     "exception": false,
     "start_time": "2024-01-07T10:39:52.583911",
     "status": "completed"
    },
    "tags": []
   },
   "source": [
    "### Train, Test, Validation Split"
   ]
  },
  {
   "cell_type": "code",
   "execution_count": 21,
   "id": "b00df5b5",
   "metadata": {
    "execution": {
     "iopub.execute_input": "2024-01-07T10:39:52.656439Z",
     "iopub.status.busy": "2024-01-07T10:39:52.656117Z",
     "iopub.status.idle": "2024-01-07T10:39:52.671317Z",
     "shell.execute_reply": "2024-01-07T10:39:52.670241Z"
    },
    "papermill": {
     "duration": 0.042288,
     "end_time": "2024-01-07T10:39:52.673319",
     "exception": false,
     "start_time": "2024-01-07T10:39:52.631031",
     "status": "completed"
    },
    "tags": []
   },
   "outputs": [],
   "source": [
    "train_df, temp_df = train_test_split(balanced_df, test_size=0.2, random_state=random_seed, stratify=balanced_df['label'], shuffle=True)\n",
    "test_df, val_df = train_test_split(temp_df, test_size=0.5, random_state=random_seed, stratify=temp_df['label'], shuffle=True)"
   ]
  },
  {
   "cell_type": "code",
   "execution_count": 22,
   "id": "e2badc98",
   "metadata": {
    "execution": {
     "iopub.execute_input": "2024-01-07T10:39:52.717347Z",
     "iopub.status.busy": "2024-01-07T10:39:52.717054Z",
     "iopub.status.idle": "2024-01-07T10:39:52.722051Z",
     "shell.execute_reply": "2024-01-07T10:39:52.721174Z"
    },
    "papermill": {
     "duration": 0.029085,
     "end_time": "2024-01-07T10:39:52.724261",
     "exception": false,
     "start_time": "2024-01-07T10:39:52.695176",
     "status": "completed"
    },
    "tags": []
   },
   "outputs": [
    {
     "name": "stdout",
     "output_type": "stream",
     "text": [
      "Number of train samples = 5083\n",
      "Number of validation samples = 636\n",
      "Number of test samples = 635\n"
     ]
    }
   ],
   "source": [
    "print('Number of train samples =', len(train_df))\n",
    "print('Number of validation samples =', len(val_df))\n",
    "print('Number of test samples =', len(test_df))    "
   ]
  },
  {
   "cell_type": "markdown",
   "id": "258d420f",
   "metadata": {
    "papermill": {
     "duration": 0.022018,
     "end_time": "2024-01-07T10:39:52.768749",
     "exception": false,
     "start_time": "2024-01-07T10:39:52.746731",
     "status": "completed"
    },
    "tags": []
   },
   "source": [
    "### Building the Dataset and Dataloader"
   ]
  },
  {
   "cell_type": "code",
   "execution_count": 23,
   "id": "5a129f22",
   "metadata": {
    "execution": {
     "iopub.execute_input": "2024-01-07T10:39:52.815327Z",
     "iopub.status.busy": "2024-01-07T10:39:52.814991Z",
     "iopub.status.idle": "2024-01-07T10:39:52.822705Z",
     "shell.execute_reply": "2024-01-07T10:39:52.821931Z"
    },
    "papermill": {
     "duration": 0.033846,
     "end_time": "2024-01-07T10:39:52.824737",
     "exception": false,
     "start_time": "2024-01-07T10:39:52.790891",
     "status": "completed"
    },
    "tags": []
   },
   "outputs": [],
   "source": [
    "class SpeechDataset(Dataset):\n",
    "    def __init__(self, data , feature_extractor):\n",
    "        self.data = data\n",
    "        self.feature_extractor = feature_extractor\n",
    "        self.target_sr = 16e3 # target sampling rate\n",
    "        \n",
    "    def __len__(self):\n",
    "        return len(self.data)\n",
    "\n",
    "    def __getitem__(self, item):\n",
    "        path = self.data.path.values[item]\n",
    "        label = self.data.label.values[item]\n",
    "        speech = self.file_to_array(path, self.target_sr)\n",
    "        input_values = self.feature_extractor(speech , sampling_rate = self.target_sr).input_values[0]\n",
    "        return input_values, label\n",
    "\n",
    "    def file_to_array(self, path, sampling_rate):\n",
    "        array, sr = librosa.load(path, sr= sampling_rate)\n",
    "        return array"
   ]
  },
  {
   "cell_type": "code",
   "execution_count": 24,
   "id": "5fe3ebf4",
   "metadata": {
    "execution": {
     "iopub.execute_input": "2024-01-07T10:39:52.871542Z",
     "iopub.status.busy": "2024-01-07T10:39:52.871153Z",
     "iopub.status.idle": "2024-01-07T10:39:52.876954Z",
     "shell.execute_reply": "2024-01-07T10:39:52.876070Z"
    },
    "papermill": {
     "duration": 0.031321,
     "end_time": "2024-01-07T10:39:52.878945",
     "exception": false,
     "start_time": "2024-01-07T10:39:52.847624",
     "status": "completed"
    },
    "tags": []
   },
   "outputs": [],
   "source": [
    "def collate_fn_padd(batch , feature_extractor):\n",
    "    inputs, labels = zip(*batch)\n",
    "    input_features = [{\"input_values\": feature} for feature in inputs]\n",
    "    padded_inputs = feature_extractor.pad(input_features, padding=True, return_tensors=\"pt\")\n",
    "    labels = torch.tensor(labels, dtype=torch.long)\n",
    "    return padded_inputs['input_values'], labels\n",
    "\n",
    "def collate_fn(batch):\n",
    "    return collate_fn_padd(batch, feature_extractor=tokenizer)"
   ]
  },
  {
   "cell_type": "code",
   "execution_count": null,
   "id": "65d19cd7",
   "metadata": {},
   "outputs": [
    {
     "data": {
      "application/vnd.jupyter.widget-view+json": {
       "model_id": "621db86f43f5414c95299f1597952bde",
       "version_major": 2,
       "version_minor": 0
      },
      "text/plain": [
       "preprocessor_config.json:   0%|          | 0.00/213 [00:00<?, ?B/s]"
      ]
     },
     "metadata": {},
     "output_type": "display_data"
    }
   ],
   "source": [
    "tokenizer = Wav2Vec2FeatureExtractor.from_pretrained('facebook/hubert-base-ls960')\n",
    "train_dataloader = DataLoader(SpeechDataset(train_df, tokenizer) , batch_size = 2, collate_fn = collate_fn, shuffle=True)\n",
    "val_dataloader = DataLoader(SpeechDataset(val_df, tokenizer) , batch_size = 2, collate_fn = collate_fn, shuffle=True)\n",
    "test_dataloader = DataLoader(SpeechDataset(test_df, tokenizer) , batch_size = 2, collate_fn = collate_fn, shuffle=True)"
   ]
  },
  {
   "cell_type": "code",
   "execution_count": 26,
   "id": "4dfe6179",
   "metadata": {
    "execution": {
     "iopub.execute_input": "2024-01-07T10:39:53.241506Z",
     "iopub.status.busy": "2024-01-07T10:39:53.241207Z",
     "iopub.status.idle": "2024-01-07T10:39:53.246269Z",
     "shell.execute_reply": "2024-01-07T10:39:53.245354Z"
    },
    "papermill": {
     "duration": 0.02942,
     "end_time": "2024-01-07T10:39:53.248325",
     "exception": false,
     "start_time": "2024-01-07T10:39:53.218905",
     "status": "completed"
    },
    "tags": []
   },
   "outputs": [
    {
     "name": "stdout",
     "output_type": "stream",
     "text": [
      "Number of train batches = 2542\n",
      "Number of validaion batches = 318\n",
      "Number of test batches = 318\n"
     ]
    }
   ],
   "source": [
    "print('Number of train batches =', len(train_dataloader))\n",
    "print('Number of validaion batches =', len(val_dataloader))\n",
    "print('Number of test batches =', len(test_dataloader))"
   ]
  },
  {
   "cell_type": "markdown",
   "id": "3334ffeb",
   "metadata": {
    "papermill": {
     "duration": 0.02079,
     "end_time": "2024-01-07T10:39:53.289926",
     "exception": false,
     "start_time": "2024-01-07T10:39:53.269136",
     "status": "completed"
    },
    "tags": []
   },
   "source": [
    "## Model "
   ]
  },
  {
   "cell_type": "code",
   "execution_count": null,
   "id": "a5844fda",
   "metadata": {},
   "outputs": [
    {
     "data": {
      "application/vnd.jupyter.widget-view+json": {
       "model_id": "335534fd9c304da38c988a49e1b510e4",
       "version_major": 2,
       "version_minor": 0
      },
      "text/plain": [
       "config.json:   0%|          | 0.00/1.39k [00:00<?, ?B/s]"
      ]
     },
     "metadata": {},
     "output_type": "display_data"
    },
    {
     "data": {
      "application/vnd.jupyter.widget-view+json": {
       "model_id": "56578b6f91b44c0ab0eac76c4ffcf311",
       "version_major": 2,
       "version_minor": 0
      },
      "text/plain": [
       "pytorch_model.bin:   0%|          | 0.00/378M [00:00<?, ?B/s]"
      ]
     },
     "metadata": {},
     "output_type": "display_data"
    },
    {
     "data": {
      "text/plain": [
       "HubertModel(\n",
       "  (feature_extractor): HubertFeatureEncoder(\n",
       "    (conv_layers): ModuleList(\n",
       "      (0): HubertGroupNormConvLayer(\n",
       "        (conv): Conv1d(1, 512, kernel_size=(10,), stride=(5,), bias=False)\n",
       "        (activation): GELUActivation()\n",
       "        (layer_norm): GroupNorm(512, 512, eps=1e-05, affine=True)\n",
       "      )\n",
       "      (1-4): 4 x HubertNoLayerNormConvLayer(\n",
       "        (conv): Conv1d(512, 512, kernel_size=(3,), stride=(2,), bias=False)\n",
       "        (activation): GELUActivation()\n",
       "      )\n",
       "      (5-6): 2 x HubertNoLayerNormConvLayer(\n",
       "        (conv): Conv1d(512, 512, kernel_size=(2,), stride=(2,), bias=False)\n",
       "        (activation): GELUActivation()\n",
       "      )\n",
       "    )\n",
       "  )\n",
       "  (feature_projection): HubertFeatureProjection(\n",
       "    (layer_norm): LayerNorm((512,), eps=1e-05, elementwise_affine=True)\n",
       "    (projection): Linear(in_features=512, out_features=768, bias=True)\n",
       "    (dropout): Dropout(p=0.1, inplace=False)\n",
       "  )\n",
       "  (encoder): HubertEncoder(\n",
       "    (pos_conv_embed): HubertPositionalConvEmbedding(\n",
       "      (conv): Conv1d(768, 768, kernel_size=(128,), stride=(1,), padding=(64,), groups=16)\n",
       "      (padding): HubertSamePadLayer()\n",
       "      (activation): GELUActivation()\n",
       "    )\n",
       "    (layer_norm): LayerNorm((768,), eps=1e-05, elementwise_affine=True)\n",
       "    (dropout): Dropout(p=0.1, inplace=False)\n",
       "    (layers): ModuleList(\n",
       "      (0-11): 12 x HubertEncoderLayer(\n",
       "        (attention): HubertAttention(\n",
       "          (k_proj): Linear(in_features=768, out_features=768, bias=True)\n",
       "          (v_proj): Linear(in_features=768, out_features=768, bias=True)\n",
       "          (q_proj): Linear(in_features=768, out_features=768, bias=True)\n",
       "          (out_proj): Linear(in_features=768, out_features=768, bias=True)\n",
       "        )\n",
       "        (dropout): Dropout(p=0.1, inplace=False)\n",
       "        (layer_norm): LayerNorm((768,), eps=1e-05, elementwise_affine=True)\n",
       "        (feed_forward): HubertFeedForward(\n",
       "          (intermediate_dropout): Dropout(p=0.1, inplace=False)\n",
       "          (intermediate_dense): Linear(in_features=768, out_features=3072, bias=True)\n",
       "          (intermediate_act_fn): GELUActivation()\n",
       "          (output_dense): Linear(in_features=3072, out_features=768, bias=True)\n",
       "          (output_dropout): Dropout(p=0.1, inplace=False)\n",
       "        )\n",
       "        (final_layer_norm): LayerNorm((768,), eps=1e-05, elementwise_affine=True)\n",
       "      )\n",
       "    )\n",
       "  )\n",
       ")"
      ]
     },
     "metadata": {},
     "output_type": "display_data"
    }
   ],
   "source": [
    "AutoModel.from_pretrained('facebook/hubert-base-ls960')"
   ]
  },
  {
   "cell_type": "code",
   "execution_count": 28,
   "id": "c1a3ed6d",
   "metadata": {
    "execution": {
     "iopub.execute_input": "2024-01-07T10:39:59.035319Z",
     "iopub.status.busy": "2024-01-07T10:39:59.034798Z",
     "iopub.status.idle": "2024-01-07T10:39:59.042535Z",
     "shell.execute_reply": "2024-01-07T10:39:59.041717Z"
    },
    "papermill": {
     "duration": 0.031923,
     "end_time": "2024-01-07T10:39:59.044330",
     "exception": false,
     "start_time": "2024-01-07T10:39:59.012407",
     "status": "completed"
    },
    "tags": []
   },
   "outputs": [],
   "source": [
    "class HuBERTClassificationModel(nn.Module):\n",
    "    def __init__(self, num_classes):\n",
    "        super(HuBERTClassificationModel, self).__init__()\n",
    "        self.hubert = AutoModel.from_pretrained('facebook/hubert-base-ls960')\n",
    "        self.fc1 = nn.Linear(self.hubert.config.hidden_size, 256)\n",
    "        self.fc2 = nn.Linear(256, num_classes)\n",
    "\n",
    "    def freeze_feature_encoder(self):\n",
    "        self.hubert.feature_extractor._freeze_parameters()\n",
    "\n",
    "    def flattened_states(self, hidden_states):\n",
    "        return torch.mean(hidden_states, dim=1)\n",
    "\n",
    "    def forward(self, input_values, attention_mask=None):\n",
    "        x = self.hubert(input_values, attention_mask=attention_mask).last_hidden_state\n",
    "        x = self.flattened_states(x) \n",
    "        # Apply fully connected layers and activation for classification task\n",
    "        x = self.fc1(x)\n",
    "        x = torch.tanh(x)\n",
    "        x = self.fc2(x)\n",
    "        return x\n"
   ]
  },
  {
   "cell_type": "markdown",
   "id": "97e44917",
   "metadata": {
    "papermill": {
     "duration": 0.021071,
     "end_time": "2024-01-07T10:39:59.086689",
     "exception": false,
     "start_time": "2024-01-07T10:39:59.065618",
     "status": "completed"
    },
    "tags": []
   },
   "source": [
    "### Loading the Model"
   ]
  },
  {
   "cell_type": "code",
   "execution_count": 29,
   "id": "9b094436",
   "metadata": {
    "execution": {
     "iopub.execute_input": "2024-01-07T10:39:59.130344Z",
     "iopub.status.busy": "2024-01-07T10:39:59.130081Z",
     "iopub.status.idle": "2024-01-07T10:40:01.489270Z",
     "shell.execute_reply": "2024-01-07T10:40:01.488170Z"
    },
    "papermill": {
     "duration": 2.383642,
     "end_time": "2024-01-07T10:40:01.491521",
     "exception": false,
     "start_time": "2024-01-07T10:39:59.107879",
     "status": "completed"
    },
    "tags": []
   },
   "outputs": [
    {
     "data": {
      "application/vnd.jupyter.widget-view+json": {
       "model_id": "de5d45f829454c9f824dede219d9078b",
       "version_major": 2,
       "version_minor": 0
      },
      "text/plain": [
       "config.json:   0%|          | 0.00/1.39k [00:00<?, ?B/s]"
      ]
     },
     "metadata": {},
     "output_type": "display_data"
    },
    {
     "data": {
      "application/vnd.jupyter.widget-view+json": {
       "model_id": "f5d81d6b28024a1eb83d5d71cbbf38ac",
       "version_major": 2,
       "version_minor": 0
      },
      "text/plain": [
       "pytorch_model.bin:   0%|          | 0.00/378M [00:00<?, ?B/s]"
      ]
     },
     "metadata": {},
     "output_type": "display_data"
    }
   ],
   "source": [
    "num_classes = len(df.label.unique())\n",
    "model = HuBERTClassificationModel(num_classes)\n",
    "model.freeze_feature_encoder()\n",
    "model = model.to(device)"
   ]
  },
  {
   "cell_type": "markdown",
   "id": "4e931b1f",
   "metadata": {
    "papermill": {
     "duration": 0.024291,
     "end_time": "2024-01-07T10:40:01.539441",
     "exception": false,
     "start_time": "2024-01-07T10:40:01.515150",
     "status": "completed"
    },
    "tags": []
   },
   "source": [
    "### Loading the Optimizer and Loss Function"
   ]
  },
  {
   "cell_type": "code",
   "execution_count": 30,
   "id": "ed54b1d5",
   "metadata": {
    "execution": {
     "iopub.execute_input": "2024-01-07T10:40:01.586628Z",
     "iopub.status.busy": "2024-01-07T10:40:01.585750Z",
     "iopub.status.idle": "2024-01-07T10:40:01.592813Z",
     "shell.execute_reply": "2024-01-07T10:40:01.591829Z"
    },
    "papermill": {
     "duration": 0.03373,
     "end_time": "2024-01-07T10:40:01.595733",
     "exception": false,
     "start_time": "2024-01-07T10:40:01.562003",
     "status": "completed"
    },
    "tags": []
   },
   "outputs": [],
   "source": [
    "lr = 1e-5\n",
    "weight_decay = 0.005\n",
    "#optimizer = torch.optim.AdamW(model.parameters(), lr=lr, weight_decay=weight_decay)\n",
    "optimizer = torch.optim.AdamW(model.parameters(), lr=lr, betas=(0.9, 0.98))\n",
    "criterion = nn.CrossEntropyLoss()"
   ]
  },
  {
   "cell_type": "markdown",
   "id": "f601b0ee",
   "metadata": {
    "papermill": {
     "duration": 0.029113,
     "end_time": "2024-01-07T10:40:01.654833",
     "exception": false,
     "start_time": "2024-01-07T10:40:01.625720",
     "status": "completed"
    },
    "tags": []
   },
   "source": [
    "### Training"
   ]
  },
  {
   "cell_type": "code",
   "execution_count": 31,
   "id": "f739d3f6",
   "metadata": {
    "execution": {
     "iopub.execute_input": "2024-01-07T10:40:01.706872Z",
     "iopub.status.busy": "2024-01-07T10:40:01.706082Z",
     "iopub.status.idle": "2024-01-07T10:40:01.715819Z",
     "shell.execute_reply": "2024-01-07T10:40:01.714912Z"
    },
    "papermill": {
     "duration": 0.038575,
     "end_time": "2024-01-07T10:40:01.718209",
     "exception": false,
     "start_time": "2024-01-07T10:40:01.679634",
     "status": "completed"
    },
    "tags": []
   },
   "outputs": [],
   "source": [
    "def train(model, dataloader, optimizer, criterion, epoch, device):\n",
    "    model.train()\n",
    "    losses, predictions, true_labels = [], [], []\n",
    "    \n",
    "    for i, (inputs, labels) in enumerate(dataloader):\n",
    "        inputs = inputs.to(device)\n",
    "        labels = labels.to(device)\n",
    "        \n",
    "        outputs = model(inputs)\n",
    "        loss = criterion(outputs, labels)\n",
    "        losses.append(loss.item())\n",
    "        \n",
    "        optimizer.zero_grad()\n",
    "        loss.backward()\n",
    "        optimizer.step()\n",
    "        \n",
    "        preds = torch.argmax(outputs, dim=1).cpu().numpy()\n",
    "        labels = labels.cpu().numpy()\n",
    "\n",
    "        if len(predictions) == 0:\n",
    "            predictions = preds\n",
    "            true_labels = labels\n",
    "        else:\n",
    "            predictions = np.concatenate((predictions, preds))\n",
    "            true_labels = np.concatenate((true_labels, labels))\n",
    "\n",
    "    print(f'Training Epoch = {epoch + 1} -> Loss = {np.mean(losses):.4f} , Accuracy = {accuracy_score(true_labels, predictions):.4f}')\n",
    "    return np.mean(losses), accuracy_score(true_labels, predictions), predictions , true_labels"
   ]
  },
  {
   "cell_type": "markdown",
   "id": "4cb59ba3",
   "metadata": {
    "papermill": {
     "duration": 0.021934,
     "end_time": "2024-01-07T10:40:01.767015",
     "exception": false,
     "start_time": "2024-01-07T10:40:01.745081",
     "status": "completed"
    },
    "tags": []
   },
   "source": [
    "### Evaluatation"
   ]
  },
  {
   "cell_type": "code",
   "execution_count": 32,
   "id": "982aa8b2",
   "metadata": {
    "execution": {
     "iopub.execute_input": "2024-01-07T10:40:01.813063Z",
     "iopub.status.busy": "2024-01-07T10:40:01.812774Z",
     "iopub.status.idle": "2024-01-07T10:40:01.821163Z",
     "shell.execute_reply": "2024-01-07T10:40:01.820251Z"
    },
    "papermill": {
     "duration": 0.034157,
     "end_time": "2024-01-07T10:40:01.823112",
     "exception": false,
     "start_time": "2024-01-07T10:40:01.788955",
     "status": "completed"
    },
    "tags": []
   },
   "outputs": [],
   "source": [
    "def evaluate(model, dataloader, criterion, device, epoch=0, test=False):\n",
    "    model.eval()\n",
    "    losses, predictions, true_labels = [], [], []\n",
    "\n",
    "    for i, (inputs, labels) in enumerate(dataloader):\n",
    "        inputs = inputs.to(device)\n",
    "        labels = labels.to(device)\n",
    "\n",
    "        outputs = model(inputs)\n",
    "        loss = criterion(outputs, labels)\n",
    "        losses.append(loss.item())\n",
    "\n",
    "        preds = torch.argmax(outputs, dim=1).cpu().numpy()\n",
    "        labels = labels.cpu().numpy()\n",
    "\n",
    "        if len(predictions) == 0:\n",
    "            predictions = preds\n",
    "            true_labels = labels\n",
    "        else:\n",
    "            predictions = np.concatenate((predictions, preds))\n",
    "            true_labels = np.concatenate((true_labels, labels))\n",
    "    if test:\n",
    "        print(f'Test -> Loss = {np.mean(losses):.4f} , Accuracy = {accuracy_score(true_labels, predictions):.4f}')\n",
    "    else:\n",
    "        print(f'Validation Epoch = {epoch + 1} -> Loss = {np.mean(losses):.4f} , Accuracy = {accuracy_score(true_labels, predictions):.4f}')\n",
    "    return np.mean(losses), accuracy_score(true_labels, predictions) , predictions , true_labels"
   ]
  },
  {
   "cell_type": "markdown",
   "id": "a2a63dfd",
   "metadata": {
    "papermill": {
     "duration": 0.021622,
     "end_time": "2024-01-07T10:40:01.866596",
     "exception": false,
     "start_time": "2024-01-07T10:40:01.844974",
     "status": "completed"
    },
    "tags": []
   },
   "source": [
    "### Plot accuracy and loss"
   ]
  },
  {
   "cell_type": "code",
   "execution_count": 33,
   "id": "38117602",
   "metadata": {
    "execution": {
     "iopub.execute_input": "2024-01-07T10:40:01.915263Z",
     "iopub.status.busy": "2024-01-07T10:40:01.914924Z",
     "iopub.status.idle": "2024-01-07T10:40:01.925512Z",
     "shell.execute_reply": "2024-01-07T10:40:01.924722Z"
    },
    "papermill": {
     "duration": 0.038784,
     "end_time": "2024-01-07T10:40:01.927436",
     "exception": false,
     "start_time": "2024-01-07T10:40:01.888652",
     "status": "completed"
    },
    "tags": []
   },
   "outputs": [],
   "source": [
    "def plot_loss_and_accuracy(loss, accuracy):\n",
    "    fig, axes = plt.subplots(nrows=1, ncols=2, figsize=(12, 4))\n",
    "\n",
    "    axes[0].plot(loss[:, 0], label=\"Train loss\")\n",
    "    axes[0].plot(loss[:, 1], label=\"Validation loss\")\n",
    "    axes[0].set_ylabel(\"Loss\", fontsize=12)\n",
    "    axes[0].set_xlabel(\"Epoch\", fontsize=12)\n",
    "    axes[0].legend(prop={'size': 10})\n",
    "\n",
    "    axes[1].plot(accuracy[:, 0], label=\"Train Accuracy\")\n",
    "    axes[1].plot(accuracy[:, 1], label=\"Validation Accuracy\")\n",
    "    axes[1].set_ylabel(\"Score\", fontsize=12)\n",
    "    axes[1].set_xlabel(\"Epoch\", fontsize=12)\n",
    "    axes[1].legend(prop={'size': 10})\n",
    "\n",
    "    plt.tight_layout()\n",
    "    plt.show()"
   ]
  },
  {
   "cell_type": "code",
   "execution_count": 34,
   "id": "1e480d91",
   "metadata": {
    "execution": {
     "iopub.execute_input": "2024-01-07T10:40:01.973929Z",
     "iopub.status.busy": "2024-01-07T10:40:01.973633Z",
     "iopub.status.idle": "2024-01-07T11:47:05.815059Z",
     "shell.execute_reply": "2024-01-07T11:47:05.814163Z"
    },
    "papermill": {
     "duration": 4023.86632,
     "end_time": "2024-01-07T11:47:05.817448",
     "exception": false,
     "start_time": "2024-01-07T10:40:01.951128",
     "status": "completed"
    },
    "tags": []
   },
   "outputs": [
    {
     "name": "stdout",
     "output_type": "stream",
     "text": [
      "Training Epoch = 1 -> Loss = 1.2472 , Accuracy = 0.5430\n",
      "Validation Epoch = 1 -> Loss = 0.6885 , Accuracy = 0.7547\n",
      "Training Epoch = 2 -> Loss = 0.7295 , Accuracy = 0.7574\n",
      "Validation Epoch = 2 -> Loss = 0.4773 , Accuracy = 0.8302\n",
      "Training Epoch = 3 -> Loss = 0.5190 , Accuracy = 0.8361\n",
      "Validation Epoch = 3 -> Loss = 0.3773 , Accuracy = 0.8695\n",
      "Training Epoch = 4 -> Loss = 0.4065 , Accuracy = 0.8682\n",
      "Validation Epoch = 4 -> Loss = 0.3618 , Accuracy = 0.9009\n",
      "Training Epoch = 5 -> Loss = 0.3325 , Accuracy = 0.8951\n",
      "Validation Epoch = 5 -> Loss = 0.2697 , Accuracy = 0.9245\n",
      "Training Epoch = 6 -> Loss = 0.2714 , Accuracy = 0.9127\n",
      "Validation Epoch = 6 -> Loss = 0.3014 , Accuracy = 0.8994\n",
      "Training Epoch = 7 -> Loss = 0.2349 , Accuracy = 0.9254\n",
      "Validation Epoch = 7 -> Loss = 0.2491 , Accuracy = 0.9292\n",
      "Training Epoch = 8 -> Loss = 0.2218 , Accuracy = 0.9333\n",
      "Validation Epoch = 8 -> Loss = 0.2601 , Accuracy = 0.9167\n",
      "Training Epoch = 9 -> Loss = 0.1923 , Accuracy = 0.9394\n",
      "Validation Epoch = 9 -> Loss = 0.2016 , Accuracy = 0.9387\n",
      "Training Epoch = 10 -> Loss = 0.1666 , Accuracy = 0.9483\n",
      "Validation Epoch = 10 -> Loss = 0.2554 , Accuracy = 0.9355\n"
     ]
    },
    {
     "data": {
      "image/png": "[encoded data removed]",
      "text/plain": [
       "<Figure size 1200x400 with 2 Axes>"
      ]
     },
     "metadata": {},
     "output_type": "display_data"
    }
   ],
   "source": [
    "best_acc = 0\n",
    "loss_list = []\n",
    "acc_list = []\n",
    "num_epochs = 10\n",
    "\n",
    "for epoch in range(num_epochs):\n",
    "    train_loss, train_acc , _ , _ = train(model, train_dataloader, optimizer, criterion, epoch, device)\n",
    "    val_loss , val_acc , _ , _ = evaluate(model, val_dataloader, criterion, device, epoch)\n",
    "    loss_list.append([train_loss, val_loss])\n",
    "    acc_list.append([train_acc, val_acc])\n",
    "    if val_acc > best_acc:\n",
    "        best_acc = val_acc\n",
    "        torch.save(model, 'best-model.pt')\n",
    "plot_loss_and_accuracy(np.array(loss_list), np.array(acc_list))"
   ]
  },
  {
   "cell_type": "markdown",
   "id": "ef165973",
   "metadata": {
    "papermill": {
     "duration": 0.024192,
     "end_time": "2024-01-07T11:47:05.866072",
     "exception": false,
     "start_time": "2024-01-07T11:47:05.841880",
     "status": "completed"
    },
    "tags": []
   },
   "source": [
    "### Testing"
   ]
  },
  {
   "cell_type": "code",
   "execution_count": 35,
   "id": "83c15fec",
   "metadata": {
    "execution": {
     "iopub.execute_input": "2024-01-07T11:47:05.967876Z",
     "iopub.status.busy": "2024-01-07T11:47:05.966628Z",
     "iopub.status.idle": "2024-01-07T11:47:05.974549Z",
     "shell.execute_reply": "2024-01-07T11:47:05.973604Z"
    },
    "papermill": {
     "duration": 0.035403,
     "end_time": "2024-01-07T11:47:05.976421",
     "exception": false,
     "start_time": "2024-01-07T11:47:05.941018",
     "status": "completed"
    },
    "tags": []
   },
   "outputs": [],
   "source": [
    "def print_results_report(labels, preds, encoder):\n",
    "    cm = confusion_matrix(labels, preds)\n",
    "    preds = encoder.inverse_transform(preds)\n",
    "    labels = encoder.inverse_transform(labels)\n",
    "    classes_acc = []\n",
    "    print(\"classes Accuracies\")\n",
    "    for class_ in encoder.classes_:\n",
    "        acc = np.mean(preds[labels == class_] == class_)\n",
    "        classes_acc.append(acc)\n",
    "        print(class_ , ' Accuracy = ', acc)\n",
    "\n",
    "    print(classification_report(labels, preds, labels = encoder.classes_))\n",
    "    classes = encoder.classes_\n",
    "    cm_df = pd.DataFrame(cm, index=classes, columns=classes)\n",
    "    sns.heatmap(cm_df, annot=True, fmt='g')"
   ]
  },
  {
   "cell_type": "code",
   "execution_count": 36,
   "id": "cc06fff0",
   "metadata": {
    "execution": {
     "iopub.execute_input": "2024-01-07T11:47:06.026351Z",
     "iopub.status.busy": "2024-01-07T11:47:06.025574Z",
     "iopub.status.idle": "2024-01-07T11:47:25.833559Z",
     "shell.execute_reply": "2024-01-07T11:47:25.832728Z"
    },
    "papermill": {
     "duration": 19.83515,
     "end_time": "2024-01-07T11:47:25.835794",
     "exception": false,
     "start_time": "2024-01-07T11:47:06.000644",
     "status": "completed"
    },
    "tags": []
   },
   "outputs": [
    {
     "name": "stdout",
     "output_type": "stream",
     "text": [
      "Test -> Loss = 0.2212 , Accuracy = 0.9340\n",
      "classes Accuracies\n",
      "anger  Accuracy =  0.9056603773584906\n",
      "fear  Accuracy =  1.0\n",
      "happiness  Accuracy =  0.9811320754716981\n",
      "neutral  Accuracy =  0.9245283018867925\n",
      "sadness  Accuracy =  0.8867924528301887\n",
      "surprise  Accuracy =  0.9056603773584906\n",
      "              precision    recall  f1-score   support\n",
      "\n",
      "       anger       0.96      0.91      0.93       106\n",
      "        fear       1.00      1.00      1.00       106\n",
      "   happiness       0.93      0.98      0.95       106\n",
      "     neutral       0.80      0.92      0.86       106\n",
      "     sadness       0.98      0.89      0.93       106\n",
      "    surprise       0.96      0.91      0.93       106\n",
      "\n",
      "    accuracy                           0.93       636\n",
      "   macro avg       0.94      0.93      0.93       636\n",
      "weighted avg       0.94      0.93      0.93       636\n",
      "\n"
     ]
    },
    {
     "data": {
      "image/png": "[encoded data removed]",
      "text/plain": [
       "<Figure size 640x480 with 2 Axes>"
      ]
     },
     "metadata": {},
     "output_type": "display_data"
    }
   ],
   "source": [
    "best_evaluated_model = torch.load('best-model.pt')\n",
    "test_loss, test_acc, test_preds, test_labels = evaluate(best_evaluated_model, val_dataloader , criterion, device, test=True)\n",
    "print_results_report(test_labels, test_preds, label_encoder)"
   ]
  }
 ],
 "metadata": {
  "kaggle": {
   "accelerator": "nvidiaTeslaT4",
   "dataSources": [
    {
     "datasetId": 230869,
     "sourceId": 493087,
     "sourceType": "datasetVersion"
    }
   ],
   "dockerImageVersionId": 30626,
   "isGpuEnabled": true,
   "isInternetEnabled": true,
   "language": "python",
   "sourceType": "notebook"
  },
  "kernelspec": {
   "display_name": "Python 3",
   "language": "python",
   "name": "python3"
  },
  "language_info": {
   "codemirror_mode": {
    "name": "ipython",
    "version": 3
   },
   "file_extension": ".py",
   "mimetype": "text/x-python",
   "name": "python",
   "nbconvert_exporter": "python",
   "pygments_lexer": "ipython3",
   "version": "3.10.12"
  },
  "papermill": {
   "default_parameters": {},
   "duration": 4305.364907,
   "end_time": "2024-01-07T11:47:29.165973",
   "environment_variables": {},
   "exception": null,
   "input_path": "__notebook__.ipynb",
   "output_path": "__notebook__.ipynb",
   "parameters": {},
   "start_time": "2024-01-07T10:35:43.801066",
   "version": "2.4.0"
  },
  "widgets": {
   "application/vnd.jupyter.widget-state+json": {
    "state": {
     "12f37152ccf14e0fa576ecbf46ddc060": {
      "model_module": "@jupyter-widgets/controls",
      "model_module_version": "1.5.0",
      "model_name": "HBoxModel",
      "state": {
       "_dom_classes": [],
       "_model_module": "@jupyter-widgets/controls",
       "_model_module_version": "1.5.0",
       "_model_name": "HBoxModel",
       "_view_count": null,
       "_view_module": "@jupyter-widgets/controls",
       "_view_module_version": "1.5.0",
       "_view_name": "HBoxView",
       "box_style": "",
       "children": [
        "IPY_MODEL_832053fec0aa48a79ecc430c26593f08",
        "IPY_MODEL_6ad53a0d065c4204a2b12d90e5c3d988",
        "IPY_MODEL_91ecda0d57c44ba688464e5f48407e9c"
       ],
       "layout": "IPY_MODEL_3fd1092e81c04080805e6df7bb6c0300"
      }
     },
     "151ea13e2a694eedb88a16d373882ac6": {
      "model_module": "@jupyter-widgets/base",
      "model_module_version": "1.2.0",
      "model_name": "LayoutModel",
      "state": {
       "_model_module": "@jupyter-widgets/base",
       "_model_module_version": "1.2.0",
       "_model_name": "LayoutModel",
       "_view_count": null,
       "_view_module": "@jupyter-widgets/base",
       "_view_module_version": "1.2.0",
       "_view_name": "LayoutView",
       "align_content": null,
       "align_items": null,
       "align_self": null,
       "border": null,
       "bottom": null,
       "display": null,
       "flex": null,
       "flex_flow": null,
       "grid_area": null,
       "grid_auto_columns": null,
       "grid_auto_flow": null,
       "grid_auto_rows": null,
       "grid_column": null,
       "grid_gap": null,
       "grid_row": null,
       "grid_template_areas": null,
       "grid_template_columns": null,
       "grid_template_rows": null,
       "height": null,
       "justify_content": null,
       "justify_items": null,
       "left": null,
       "margin": null,
       "max_height": null,
       "max_width": null,
       "min_height": null,
       "min_width": null,
       "object_fit": null,
       "object_position": null,
       "order": null,
       "overflow": null,
       "overflow_x": null,
       "overflow_y": null,
       "padding": null,
       "right": null,
       "top": null,
       "visibility": null,
       "width": null
      }
     },
     "1c68f090381c4e86b96caf2f46b80958": {
      "model_module": "@jupyter-widgets/controls",
      "model_module_version": "1.5.0",
      "model_name": "HTMLModel",
      "state": {
       "_dom_classes": [],
       "_model_module": "@jupyter-widgets/controls",
       "_model_module_version": "1.5.0",
       "_model_name": "HTMLModel",
       "_view_count": null,
       "_view_module": "@jupyter-widgets/controls",
       "_view_module_version": "1.5.0",
       "_view_name": "HTMLView",
       "description": "",
       "description_tooltip": null,
       "layout": "IPY_MODEL_41ac4b241bdf4b44af2aae888d473e2a",
       "placeholder": "​",
       "style": "IPY_MODEL_430bb9166f92442798691b0599de1ace",
       "value": "pytorch_model.bin: 100%"
      }
     },
     "1d2f84dff31c4d889be20b774162265e": {
      "model_module": "@jupyter-widgets/controls",
      "model_module_version": "1.5.0",
      "model_name": "ProgressStyleModel",
      "state": {
       "_model_module": "@jupyter-widgets/controls",
       "_model_module_version": "1.5.0",
       "_model_name": "ProgressStyleModel",
       "_view_count": null,
       "_view_module": "@jupyter-widgets/base",
       "_view_module_version": "1.2.0",
       "_view_name": "StyleView",
       "bar_color": null,
       "description_width": ""
      }
     },
     "233b780cc7da4224bdaa8350d2ab8212": {
      "model_module": "@jupyter-widgets/controls",
      "model_module_version": "1.5.0",
      "model_name": "HTMLModel",
      "state": {
       "_dom_classes": [],
       "_model_module": "@jupyter-widgets/controls",
       "_model_module_version": "1.5.0",
       "_model_name": "HTMLModel",
       "_view_count": null,
       "_view_module": "@jupyter-widgets/controls",
       "_view_module_version": "1.5.0",
       "_view_name": "HTMLView",
       "description": "",
       "description_tooltip": null,
       "layout": "IPY_MODEL_f925b0c3eb764f2fa826beb49d38af65",
       "placeholder": "​",
       "style": "IPY_MODEL_e4b22bad245f4fa0831d6dac5fff451f",
       "value": " 378M/378M [00:01&lt;00:00, 377MB/s]"
      }
     },
     "2e73e68977c848328fcdc1e74e658297": {
      "model_module": "@jupyter-widgets/controls",
      "model_module_version": "1.5.0",
      "model_name": "DescriptionStyleModel",
      "state": {
       "_model_module": "@jupyter-widgets/controls",
       "_model_module_version": "1.5.0",
       "_model_name": "DescriptionStyleModel",
       "_view_count": null,
       "_view_module": "@jupyter-widgets/base",
       "_view_module_version": "1.2.0",
       "_view_name": "StyleView",
       "description_width": ""
      }
     },
     "38d6578736dc4740af1d99a713fe5fed": {
      "model_module": "@jupyter-widgets/controls",
      "model_module_version": "1.5.0",
      "model_name": "HTMLModel",
      "state": {
       "_dom_classes": [],
       "_model_module": "@jupyter-widgets/controls",
       "_model_module_version": "1.5.0",
       "_model_name": "HTMLModel",
       "_view_count": null,
       "_view_module": "@jupyter-widgets/controls",
       "_view_module_version": "1.5.0",
       "_view_name": "HTMLView",
       "description": "",
       "description_tooltip": null,
       "layout": "IPY_MODEL_58dc115e82184254ac6409ca88adc5f2",
       "placeholder": "​",
       "style": "IPY_MODEL_fbb2285f6a344397bf34814978d9e604",
       "value": " 1.38k/1.38k [00:00&lt;00:00, 118kB/s]"
      }
     },
     "3fd1092e81c04080805e6df7bb6c0300": {
      "model_module": "@jupyter-widgets/base",
      "model_module_version": "1.2.0",
      "model_name": "LayoutModel",
      "state": {
       "_model_module": "@jupyter-widgets/base",
       "_model_module_version": "1.2.0",
       "_model_name": "LayoutModel",
       "_view_count": null,
       "_view_module": "@jupyter-widgets/base",
       "_view_module_version": "1.2.0",
       "_view_name": "LayoutView",
       "align_content": null,
       "align_items": null,
       "align_self": null,
       "border": null,
       "bottom": null,
       "display": null,
       "flex": null,
       "flex_flow": null,
       "grid_area": null,
       "grid_auto_columns": null,
       "grid_auto_flow": null,
       "grid_auto_rows": null,
       "grid_column": null,
       "grid_gap": null,
       "grid_row": null,
       "grid_template_areas": null,
       "grid_template_columns": null,
       "grid_template_rows": null,
       "height": null,
       "justify_content": null,
       "justify_items": null,
       "left": null,
       "margin": null,
       "max_height": null,
       "max_width": null,
       "min_height": null,
       "min_width": null,
       "object_fit": null,
       "object_position": null,
       "order": null,
       "overflow": null,
       "overflow_x": null,
       "overflow_y": null,
       "padding": null,
       "right": null,
       "top": null,
       "visibility": null,
       "width": null
      }
     },
     "41ac4b241bdf4b44af2aae888d473e2a": {
      "model_module": "@jupyter-widgets/base",
      "model_module_version": "1.2.0",
      "model_name": "LayoutModel",
      "state": {
       "_model_module": "@jupyter-widgets/base",
       "_model_module_version": "1.2.0",
       "_model_name": "LayoutModel",
       "_view_count": null,
       "_view_module": "@jupyter-widgets/base",
       "_view_module_version": "1.2.0",
       "_view_name": "LayoutView",
       "align_content": null,
       "align_items": null,
       "align_self": null,
       "border": null,
       "bottom": null,
       "display": null,
       "flex": null,
       "flex_flow": null,
       "grid_area": null,
       "grid_auto_columns": null,
       "grid_auto_flow": null,
       "grid_auto_rows": null,
       "grid_column": null,
       "grid_gap": null,
       "grid_row": null,
       "grid_template_areas": null,
       "grid_template_columns": null,
       "grid_template_rows": null,
       "height": null,
       "justify_content": null,
       "justify_items": null,
       "left": null,
       "margin": null,
       "max_height": null,
       "max_width": null,
       "min_height": null,
       "min_width": null,
       "object_fit": null,
       "object_position": null,
       "order": null,
       "overflow": null,
       "overflow_x": null,
       "overflow_y": null,
       "padding": null,
       "right": null,
       "top": null,
       "visibility": null,
       "width": null
      }
     },
     "421df5da70464d7e8ecacdabf03c20b7": {
      "model_module": "@jupyter-widgets/controls",
      "model_module_version": "1.5.0",
      "model_name": "ProgressStyleModel",
      "state": {
       "_model_module": "@jupyter-widgets/controls",
       "_model_module_version": "1.5.0",
       "_model_name": "ProgressStyleModel",
       "_view_count": null,
       "_view_module": "@jupyter-widgets/base",
       "_view_module_version": "1.2.0",
       "_view_name": "StyleView",
       "bar_color": null,
       "description_width": ""
      }
     },
     "430bb9166f92442798691b0599de1ace": {
      "model_module": "@jupyter-widgets/controls",
      "model_module_version": "1.5.0",
      "model_name": "DescriptionStyleModel",
      "state": {
       "_model_module": "@jupyter-widgets/controls",
       "_model_module_version": "1.5.0",
       "_model_name": "DescriptionStyleModel",
       "_view_count": null,
       "_view_module": "@jupyter-widgets/base",
       "_view_module_version": "1.2.0",
       "_view_name": "StyleView",
       "description_width": ""
      }
     },
     "4a9c78b2cf614d4fad2ba73d1083e2d5": {
      "model_module": "@jupyter-widgets/base",
      "model_module_version": "1.2.0",
      "model_name": "LayoutModel",
      "state": {
       "_model_module": "@jupyter-widgets/base",
       "_model_module_version": "1.2.0",
       "_model_name": "LayoutModel",
       "_view_count": null,
       "_view_module": "@jupyter-widgets/base",
       "_view_module_version": "1.2.0",
       "_view_name": "LayoutView",
       "align_content": null,
       "align_items": null,
       "align_self": null,
       "border": null,
       "bottom": null,
       "display": null,
       "flex": null,
       "flex_flow": null,
       "grid_area": null,
       "grid_auto_columns": null,
       "grid_auto_flow": null,
       "grid_auto_rows": null,
       "grid_column": null,
       "grid_gap": null,
       "grid_row": null,
       "grid_template_areas": null,
       "grid_template_columns": null,
       "grid_template_rows": null,
       "height": null,
       "justify_content": null,
       "justify_items": null,
       "left": null,
       "margin": null,
       "max_height": null,
       "max_width": null,
       "min_height": null,
       "min_width": null,
       "object_fit": null,
       "object_position": null,
       "order": null,
       "overflow": null,
       "overflow_x": null,
       "overflow_y": null,
       "padding": null,
       "right": null,
       "top": null,
       "visibility": null,
       "width": null
      }
     },
     "4dd01aeb68ef4d3aae064e96efd407b8": {
      "model_module": "@jupyter-widgets/base",
      "model_module_version": "1.2.0",
      "model_name": "LayoutModel",
      "state": {
       "_model_module": "@jupyter-widgets/base",
       "_model_module_version": "1.2.0",
       "_model_name": "LayoutModel",
       "_view_count": null,
       "_view_module": "@jupyter-widgets/base",
       "_view_module_version": "1.2.0",
       "_view_name": "LayoutView",
       "align_content": null,
       "align_items": null,
       "align_self": null,
       "border": null,
       "bottom": null,
       "display": null,
       "flex": null,
       "flex_flow": null,
       "grid_area": null,
       "grid_auto_columns": null,
       "grid_auto_flow": null,
       "grid_auto_rows": null,
       "grid_column": null,
       "grid_gap": null,
       "grid_row": null,
       "grid_template_areas": null,
       "grid_template_columns": null,
       "grid_template_rows": null,
       "height": null,
       "justify_content": null,
       "justify_items": null,
       "left": null,
       "margin": null,
       "max_height": null,
       "max_width": null,
       "min_height": null,
       "min_width": null,
       "object_fit": null,
       "object_position": null,
       "order": null,
       "overflow": null,
       "overflow_x": null,
       "overflow_y": null,
       "padding": null,
       "right": null,
       "top": null,
       "visibility": null,
       "width": null
      }
     },
     "4e099888a5164cc1a27e54b3da868b78": {
      "model_module": "@jupyter-widgets/controls",
      "model_module_version": "1.5.0",
      "model_name": "HTMLModel",
      "state": {
       "_dom_classes": [],
       "_model_module": "@jupyter-widgets/controls",
       "_model_module_version": "1.5.0",
       "_model_name": "HTMLModel",
       "_view_count": null,
       "_view_module": "@jupyter-widgets/controls",
       "_view_module_version": "1.5.0",
       "_view_name": "HTMLView",
       "description": "",
       "description_tooltip": null,
       "layout": "IPY_MODEL_151ea13e2a694eedb88a16d373882ac6",
       "placeholder": "​",
       "style": "IPY_MODEL_2e73e68977c848328fcdc1e74e658297",
       "value": " 1.39k/1.39k [00:00&lt;00:00, 126kB/s]"
      }
     },
     "52ed6b553f824b5f946932aabc31ed1a": {
      "model_module": "@jupyter-widgets/base",
      "model_module_version": "1.2.0",
      "model_name": "LayoutModel",
      "state": {
       "_model_module": "@jupyter-widgets/base",
       "_model_module_version": "1.2.0",
       "_model_name": "LayoutModel",
       "_view_count": null,
       "_view_module": "@jupyter-widgets/base",
       "_view_module_version": "1.2.0",
       "_view_name": "LayoutView",
       "align_content": null,
       "align_items": null,
       "align_self": null,
       "border": null,
       "bottom": null,
       "display": null,
       "flex": null,
       "flex_flow": null,
       "grid_area": null,
       "grid_auto_columns": null,
       "grid_auto_flow": null,
       "grid_auto_rows": null,
       "grid_column": null,
       "grid_gap": null,
       "grid_row": null,
       "grid_template_areas": null,
       "grid_template_columns": null,
       "grid_template_rows": null,
       "height": null,
       "justify_content": null,
       "justify_items": null,
       "left": null,
       "margin": null,
       "max_height": null,
       "max_width": null,
       "min_height": null,
       "min_width": null,
       "object_fit": null,
       "object_position": null,
       "order": null,
       "overflow": null,
       "overflow_x": null,
       "overflow_y": null,
       "padding": null,
       "right": null,
       "top": null,
       "visibility": null,
       "width": null
      }
     },
     "531b9e3148c844d88c9e6fa0167bfe88": {
      "model_module": "@jupyter-widgets/base",
      "model_module_version": "1.2.0",
      "model_name": "LayoutModel",
      "state": {
       "_model_module": "@jupyter-widgets/base",
       "_model_module_version": "1.2.0",
       "_model_name": "LayoutModel",
       "_view_count": null,
       "_view_module": "@jupyter-widgets/base",
       "_view_module_version": "1.2.0",
       "_view_name": "LayoutView",
       "align_content": null,
       "align_items": null,
       "align_self": null,
       "border": null,
       "bottom": null,
       "display": null,
       "flex": null,
       "flex_flow": null,
       "grid_area": null,
       "grid_auto_columns": null,
       "grid_auto_flow": null,
       "grid_auto_rows": null,
       "grid_column": null,
       "grid_gap": null,
       "grid_row": null,
       "grid_template_areas": null,
       "grid_template_columns": null,
       "grid_template_rows": null,
       "height": null,
       "justify_content": null,
       "justify_items": null,
       "left": null,
       "margin": null,
       "max_height": null,
       "max_width": null,
       "min_height": null,
       "min_width": null,
       "object_fit": null,
       "object_position": null,
       "order": null,
       "overflow": null,
       "overflow_x": null,
       "overflow_y": null,
       "padding": null,
       "right": null,
       "top": null,
       "visibility": null,
       "width": null
      }
     },
     "53c852029e4e4d0f8ab35794c77eae75": {
      "model_module": "@jupyter-widgets/base",
      "model_module_version": "1.2.0",
      "model_name": "LayoutModel",
      "state": {
       "_model_module": "@jupyter-widgets/base",
       "_model_module_version": "1.2.0",
       "_model_name": "LayoutModel",
       "_view_count": null,
       "_view_module": "@jupyter-widgets/base",
       "_view_module_version": "1.2.0",
       "_view_name": "LayoutView",
       "align_content": null,
       "align_items": null,
       "align_self": null,
       "border": null,
       "bottom": null,
       "display": null,
       "flex": null,
       "flex_flow": null,
       "grid_area": null,
       "grid_auto_columns": null,
       "grid_auto_flow": null,
       "grid_auto_rows": null,
       "grid_column": null,
       "grid_gap": null,
       "grid_row": null,
       "grid_template_areas": null,
       "grid_template_columns": null,
       "grid_template_rows": null,
       "height": null,
       "justify_content": null,
       "justify_items": null,
       "left": null,
       "margin": null,
       "max_height": null,
       "max_width": null,
       "min_height": null,
       "min_width": null,
       "object_fit": null,
       "object_position": null,
       "order": null,
       "overflow": null,
       "overflow_x": null,
       "overflow_y": null,
       "padding": null,
       "right": null,
       "top": null,
       "visibility": null,
       "width": null
      }
     },
     "53d053c9f6db412d9557702315e0af03": {
      "model_module": "@jupyter-widgets/controls",
      "model_module_version": "1.5.0",
      "model_name": "FloatProgressModel",
      "state": {
       "_dom_classes": [],
       "_model_module": "@jupyter-widgets/controls",
       "_model_module_version": "1.5.0",
       "_model_name": "FloatProgressModel",
       "_view_count": null,
       "_view_module": "@jupyter-widgets/controls",
       "_view_module_version": "1.5.0",
       "_view_name": "ProgressView",
       "bar_style": "success",
       "description": "",
       "description_tooltip": null,
       "layout": "IPY_MODEL_4a9c78b2cf614d4fad2ba73d1083e2d5",
       "max": 377569754,
       "min": 0,
       "orientation": "horizontal",
       "style": "IPY_MODEL_de451e775f6740c5a39d916e1629d568",
       "value": 377569754
      }
     },
     "5457ba207ee5493e8a09c19cad362251": {
      "model_module": "@jupyter-widgets/base",
      "model_module_version": "1.2.0",
      "model_name": "LayoutModel",
      "state": {
       "_model_module": "@jupyter-widgets/base",
       "_model_module_version": "1.2.0",
       "_model_name": "LayoutModel",
       "_view_count": null,
       "_view_module": "@jupyter-widgets/base",
       "_view_module_version": "1.2.0",
       "_view_name": "LayoutView",
       "align_content": null,
       "align_items": null,
       "align_self": null,
       "border": null,
       "bottom": null,
       "display": null,
       "flex": null,
       "flex_flow": null,
       "grid_area": null,
       "grid_auto_columns": null,
       "grid_auto_flow": null,
       "grid_auto_rows": null,
       "grid_column": null,
       "grid_gap": null,
       "grid_row": null,
       "grid_template_areas": null,
       "grid_template_columns": null,
       "grid_template_rows": null,
       "height": null,
       "justify_content": null,
       "justify_items": null,
       "left": null,
       "margin": null,
       "max_height": null,
       "max_width": null,
       "min_height": null,
       "min_width": null,
       "object_fit": null,
       "object_position": null,
       "order": null,
       "overflow": null,
       "overflow_x": null,
       "overflow_y": null,
       "padding": null,
       "right": null,
       "top": null,
       "visibility": null,
       "width": null
      }
     },
     "58dc115e82184254ac6409ca88adc5f2": {
      "model_module": "@jupyter-widgets/base",
      "model_module_version": "1.2.0",
      "model_name": "LayoutModel",
      "state": {
       "_model_module": "@jupyter-widgets/base",
       "_model_module_version": "1.2.0",
       "_model_name": "LayoutModel",
       "_view_count": null,
       "_view_module": "@jupyter-widgets/base",
       "_view_module_version": "1.2.0",
       "_view_name": "LayoutView",
       "align_content": null,
       "align_items": null,
       "align_self": null,
       "border": null,
       "bottom": null,
       "display": null,
       "flex": null,
       "flex_flow": null,
       "grid_area": null,
       "grid_auto_columns": null,
       "grid_auto_flow": null,
       "grid_auto_rows": null,
       "grid_column": null,
       "grid_gap": null,
       "grid_row": null,
       "grid_template_areas": null,
       "grid_template_columns": null,
       "grid_template_rows": null,
       "height": null,
       "justify_content": null,
       "justify_items": null,
       "left": null,
       "margin": null,
       "max_height": null,
       "max_width": null,
       "min_height": null,
       "min_width": null,
       "object_fit": null,
       "object_position": null,
       "order": null,
       "overflow": null,
       "overflow_x": null,
       "overflow_y": null,
       "padding": null,
       "right": null,
       "top": null,
       "visibility": null,
       "width": null
      }
     },
     "591b27edff8346fda9dbc04799c00500": {
      "model_module": "@jupyter-widgets/controls",
      "model_module_version": "1.5.0",
      "model_name": "HTMLModel",
      "state": {
       "_dom_classes": [],
       "_model_module": "@jupyter-widgets/controls",
       "_model_module_version": "1.5.0",
       "_model_name": "HTMLModel",
       "_view_count": null,
       "_view_module": "@jupyter-widgets/controls",
       "_view_module_version": "1.5.0",
       "_view_name": "HTMLView",
       "description": "",
       "description_tooltip": null,
       "layout": "IPY_MODEL_5d22c0e12891487b98a9da6b04ed8493",
       "placeholder": "​",
       "style": "IPY_MODEL_a5ed70c2eb8240638979373f0595078f",
       "value": "config.json: 100%"
      }
     },
     "5c55692247d5409281724c54171f9b66": {
      "model_module": "@jupyter-widgets/base",
      "model_module_version": "1.2.0",
      "model_name": "LayoutModel",
      "state": {
       "_model_module": "@jupyter-widgets/base",
       "_model_module_version": "1.2.0",
       "_model_name": "LayoutModel",
       "_view_count": null,
       "_view_module": "@jupyter-widgets/base",
       "_view_module_version": "1.2.0",
       "_view_name": "LayoutView",
       "align_content": null,
       "align_items": null,
       "align_self": null,
       "border": null,
       "bottom": null,
       "display": null,
       "flex": null,
       "flex_flow": null,
       "grid_area": null,
       "grid_auto_columns": null,
       "grid_auto_flow": null,
       "grid_auto_rows": null,
       "grid_column": null,
       "grid_gap": null,
       "grid_row": null,
       "grid_template_areas": null,
       "grid_template_columns": null,
       "grid_template_rows": null,
       "height": null,
       "justify_content": null,
       "justify_items": null,
       "left": null,
       "margin": null,
       "max_height": null,
       "max_width": null,
       "min_height": null,
       "min_width": null,
       "object_fit": null,
       "object_position": null,
       "order": null,
       "overflow": null,
       "overflow_x": null,
       "overflow_y": null,
       "padding": null,
       "right": null,
       "top": null,
       "visibility": null,
       "width": null
      }
     },
     "5d22c0e12891487b98a9da6b04ed8493": {
      "model_module": "@jupyter-widgets/base",
      "model_module_version": "1.2.0",
      "model_name": "LayoutModel",
      "state": {
       "_model_module": "@jupyter-widgets/base",
       "_model_module_version": "1.2.0",
       "_model_name": "LayoutModel",
       "_view_count": null,
       "_view_module": "@jupyter-widgets/base",
       "_view_module_version": "1.2.0",
       "_view_name": "LayoutView",
       "align_content": null,
       "align_items": null,
       "align_self": null,
       "border": null,
       "bottom": null,
       "display": null,
       "flex": null,
       "flex_flow": null,
       "grid_area": null,
       "grid_auto_columns": null,
       "grid_auto_flow": null,
       "grid_auto_rows": null,
       "grid_column": null,
       "grid_gap": null,
       "grid_row": null,
       "grid_template_areas": null,
       "grid_template_columns": null,
       "grid_template_rows": null,
       "height": null,
       "justify_content": null,
       "justify_items": null,
       "left": null,
       "margin": null,
       "max_height": null,
       "max_width": null,
       "min_height": null,
       "min_width": null,
       "object_fit": null,
       "object_position": null,
       "order": null,
       "overflow": null,
       "overflow_x": null,
       "overflow_y": null,
       "padding": null,
       "right": null,
       "top": null,
       "visibility": null,
       "width": null
      }
     },
     "6ad53a0d065c4204a2b12d90e5c3d988": {
      "model_module": "@jupyter-widgets/controls",
      "model_module_version": "1.5.0",
      "model_name": "FloatProgressModel",
      "state": {
       "_dom_classes": [],
       "_model_module": "@jupyter-widgets/controls",
       "_model_module_version": "1.5.0",
       "_model_name": "FloatProgressModel",
       "_view_count": null,
       "_view_module": "@jupyter-widgets/controls",
       "_view_module_version": "1.5.0",
       "_view_name": "ProgressView",
       "bar_style": "success",
       "description": "",
       "description_tooltip": null,
       "layout": "IPY_MODEL_ea1da8842f754afb9efbd5af3484f786",
       "max": 213,
       "min": 0,
       "orientation": "horizontal",
       "style": "IPY_MODEL_421df5da70464d7e8ecacdabf03c20b7",
       "value": 213
      }
     },
     "6d0364def1bc45248785c50a9a3c7181": {
      "model_module": "@jupyter-widgets/base",
      "model_module_version": "1.2.0",
      "model_name": "LayoutModel",
      "state": {
       "_model_module": "@jupyter-widgets/base",
       "_model_module_version": "1.2.0",
       "_model_name": "LayoutModel",
       "_view_count": null,
       "_view_module": "@jupyter-widgets/base",
       "_view_module_version": "1.2.0",
       "_view_name": "LayoutView",
       "align_content": null,
       "align_items": null,
       "align_self": null,
       "border": null,
       "bottom": null,
       "display": null,
       "flex": null,
       "flex_flow": null,
       "grid_area": null,
       "grid_auto_columns": null,
       "grid_auto_flow": null,
       "grid_auto_rows": null,
       "grid_column": null,
       "grid_gap": null,
       "grid_row": null,
       "grid_template_areas": null,
       "grid_template_columns": null,
       "grid_template_rows": null,
       "height": null,
       "justify_content": null,
       "justify_items": null,
       "left": null,
       "margin": null,
       "max_height": null,
       "max_width": null,
       "min_height": null,
       "min_width": null,
       "object_fit": null,
       "object_position": null,
       "order": null,
       "overflow": null,
       "overflow_x": null,
       "overflow_y": null,
       "padding": null,
       "right": null,
       "top": null,
       "visibility": null,
       "width": null
      }
     },
     "6e43ce21c4d94594a2697fd8396b467c": {
      "model_module": "@jupyter-widgets/controls",
      "model_module_version": "1.5.0",
      "model_name": "FloatProgressModel",
      "state": {
       "_dom_classes": [],
       "_model_module": "@jupyter-widgets/controls",
       "_model_module_version": "1.5.0",
       "_model_name": "FloatProgressModel",
       "_view_count": null,
       "_view_module": "@jupyter-widgets/controls",
       "_view_module_version": "1.5.0",
       "_view_name": "ProgressView",
       "bar_style": "success",
       "description": "",
       "description_tooltip": null,
       "layout": "IPY_MODEL_5457ba207ee5493e8a09c19cad362251",
       "max": 1385,
       "min": 0,
       "orientation": "horizontal",
       "style": "IPY_MODEL_c411c5aac9b240efa0eebd9007354458",
       "value": 1385
      }
     },
     "731b3142743943eabe6847cac0c1733a": {
      "model_module": "@jupyter-widgets/controls",
      "model_module_version": "1.5.0",
      "model_name": "DescriptionStyleModel",
      "state": {
       "_model_module": "@jupyter-widgets/controls",
       "_model_module_version": "1.5.0",
       "_model_name": "DescriptionStyleModel",
       "_view_count": null,
       "_view_module": "@jupyter-widgets/base",
       "_view_module_version": "1.2.0",
       "_view_name": "StyleView",
       "description_width": ""
      }
     },
     "832053fec0aa48a79ecc430c26593f08": {
      "model_module": "@jupyter-widgets/controls",
      "model_module_version": "1.5.0",
      "model_name": "HTMLModel",
      "state": {
       "_dom_classes": [],
       "_model_module": "@jupyter-widgets/controls",
       "_model_module_version": "1.5.0",
       "_model_name": "HTMLModel",
       "_view_count": null,
       "_view_module": "@jupyter-widgets/controls",
       "_view_module_version": "1.5.0",
       "_view_name": "HTMLView",
       "description": "",
       "description_tooltip": null,
       "layout": "IPY_MODEL_52ed6b553f824b5f946932aabc31ed1a",
       "placeholder": "​",
       "style": "IPY_MODEL_ba7d31f9115a4458a32864cce920b86d",
       "value": "preprocessor_config.json: 100%"
      }
     },
     "88a5be0fb3ed40df9b476947d8c4e4fd": {
      "model_module": "@jupyter-widgets/base",
      "model_module_version": "1.2.0",
      "model_name": "LayoutModel",
      "state": {
       "_model_module": "@jupyter-widgets/base",
       "_model_module_version": "1.2.0",
       "_model_name": "LayoutModel",
       "_view_count": null,
       "_view_module": "@jupyter-widgets/base",
       "_view_module_version": "1.2.0",
       "_view_name": "LayoutView",
       "align_content": null,
       "align_items": null,
       "align_self": null,
       "border": null,
       "bottom": null,
       "display": null,
       "flex": null,
       "flex_flow": null,
       "grid_area": null,
       "grid_auto_columns": null,
       "grid_auto_flow": null,
       "grid_auto_rows": null,
       "grid_column": null,
       "grid_gap": null,
       "grid_row": null,
       "grid_template_areas": null,
       "grid_template_columns": null,
       "grid_template_rows": null,
       "height": null,
       "justify_content": null,
       "justify_items": null,
       "left": null,
       "margin": null,
       "max_height": null,
       "max_width": null,
       "min_height": null,
       "min_width": null,
       "object_fit": null,
       "object_position": null,
       "order": null,
       "overflow": null,
       "overflow_x": null,
       "overflow_y": null,
       "padding": null,
       "right": null,
       "top": null,
       "visibility": null,
       "width": null
      }
     },
     "91ecda0d57c44ba688464e5f48407e9c": {
      "model_module": "@jupyter-widgets/controls",
      "model_module_version": "1.5.0",
      "model_name": "HTMLModel",
      "state": {
       "_dom_classes": [],
       "_model_module": "@jupyter-widgets/controls",
       "_model_module_version": "1.5.0",
       "_model_name": "HTMLModel",
       "_view_count": null,
       "_view_module": "@jupyter-widgets/controls",
       "_view_module_version": "1.5.0",
       "_view_name": "HTMLView",
       "description": "",
       "description_tooltip": null,
       "layout": "IPY_MODEL_531b9e3148c844d88c9e6fa0167bfe88",
       "placeholder": "​",
       "style": "IPY_MODEL_f068d6809dcc4ac888d6c17c5e63356e",
       "value": " 213/213 [00:00&lt;00:00, 18.1kB/s]"
      }
     },
     "92aa7db7c86241bf86cc7dc29ea18ff5": {
      "model_module": "@jupyter-widgets/base",
      "model_module_version": "1.2.0",
      "model_name": "LayoutModel",
      "state": {
       "_model_module": "@jupyter-widgets/base",
       "_model_module_version": "1.2.0",
       "_model_name": "LayoutModel",
       "_view_count": null,
       "_view_module": "@jupyter-widgets/base",
       "_view_module_version": "1.2.0",
       "_view_name": "LayoutView",
       "align_content": null,
       "align_items": null,
       "align_self": null,
       "border": null,
       "bottom": null,
       "display": null,
       "flex": null,
       "flex_flow": null,
       "grid_area": null,
       "grid_auto_columns": null,
       "grid_auto_flow": null,
       "grid_auto_rows": null,
       "grid_column": null,
       "grid_gap": null,
       "grid_row": null,
       "grid_template_areas": null,
       "grid_template_columns": null,
       "grid_template_rows": null,
       "height": null,
       "justify_content": null,
       "justify_items": null,
       "left": null,
       "margin": null,
       "max_height": null,
       "max_width": null,
       "min_height": null,
       "min_width": null,
       "object_fit": null,
       "object_position": null,
       "order": null,
       "overflow": null,
       "overflow_x": null,
       "overflow_y": null,
       "padding": null,
       "right": null,
       "top": null,
       "visibility": null,
       "width": null
      }
     },
     "9e267a00dbb348f5a92e52dfdd53735c": {
      "model_module": "@jupyter-widgets/controls",
      "model_module_version": "1.5.0",
      "model_name": "FloatProgressModel",
      "state": {
       "_dom_classes": [],
       "_model_module": "@jupyter-widgets/controls",
       "_model_module_version": "1.5.0",
       "_model_name": "FloatProgressModel",
       "_view_count": null,
       "_view_module": "@jupyter-widgets/controls",
       "_view_module_version": "1.5.0",
       "_view_name": "ProgressView",
       "bar_style": "success",
       "description": "",
       "description_tooltip": null,
       "layout": "IPY_MODEL_e7696c0e752a4ae2bb7db378a0c41fed",
       "max": 1262057559,
       "min": 0,
       "orientation": "horizontal",
       "style": "IPY_MODEL_1d2f84dff31c4d889be20b774162265e",
       "value": 1262057559
      }
     },
     "a4a41d85668b4a67ae39e36df6bd801b": {
      "model_module": "@jupyter-widgets/controls",
      "model_module_version": "1.5.0",
      "model_name": "HTMLModel",
      "state": {
       "_dom_classes": [],
       "_model_module": "@jupyter-widgets/controls",
       "_model_module_version": "1.5.0",
       "_model_name": "HTMLModel",
       "_view_count": null,
       "_view_module": "@jupyter-widgets/controls",
       "_view_module_version": "1.5.0",
       "_view_name": "HTMLView",
       "description": "",
       "description_tooltip": null,
       "layout": "IPY_MODEL_f59f156d4ae8400c9d38319bc528260e",
       "placeholder": "​",
       "style": "IPY_MODEL_731b3142743943eabe6847cac0c1733a",
       "value": "pytorch_model.bin: 100%"
      }
     },
     "a5ed70c2eb8240638979373f0595078f": {
      "model_module": "@jupyter-widgets/controls",
      "model_module_version": "1.5.0",
      "model_name": "DescriptionStyleModel",
      "state": {
       "_model_module": "@jupyter-widgets/controls",
       "_model_module_version": "1.5.0",
       "_model_name": "DescriptionStyleModel",
       "_view_count": null,
       "_view_module": "@jupyter-widgets/base",
       "_view_module_version": "1.2.0",
       "_view_name": "StyleView",
       "description_width": ""
      }
     },
     "b5060ccb80694c4d963adfa98b653741": {
      "model_module": "@jupyter-widgets/controls",
      "model_module_version": "1.5.0",
      "model_name": "DescriptionStyleModel",
      "state": {
       "_model_module": "@jupyter-widgets/controls",
       "_model_module_version": "1.5.0",
       "_model_name": "DescriptionStyleModel",
       "_view_count": null,
       "_view_module": "@jupyter-widgets/base",
       "_view_module_version": "1.2.0",
       "_view_name": "StyleView",
       "description_width": ""
      }
     },
     "b7a3f3717f854faf9bd9850385763d2c": {
      "model_module": "@jupyter-widgets/controls",
      "model_module_version": "1.5.0",
      "model_name": "DescriptionStyleModel",
      "state": {
       "_model_module": "@jupyter-widgets/controls",
       "_model_module_version": "1.5.0",
       "_model_name": "DescriptionStyleModel",
       "_view_count": null,
       "_view_module": "@jupyter-widgets/base",
       "_view_module_version": "1.2.0",
       "_view_name": "StyleView",
       "description_width": ""
      }
     },
     "ba7d31f9115a4458a32864cce920b86d": {
      "model_module": "@jupyter-widgets/controls",
      "model_module_version": "1.5.0",
      "model_name": "DescriptionStyleModel",
      "state": {
       "_model_module": "@jupyter-widgets/controls",
       "_model_module_version": "1.5.0",
       "_model_name": "DescriptionStyleModel",
       "_view_count": null,
       "_view_module": "@jupyter-widgets/base",
       "_view_module_version": "1.2.0",
       "_view_name": "StyleView",
       "description_width": ""
      }
     },
     "c411c5aac9b240efa0eebd9007354458": {
      "model_module": "@jupyter-widgets/controls",
      "model_module_version": "1.5.0",
      "model_name": "ProgressStyleModel",
      "state": {
       "_model_module": "@jupyter-widgets/controls",
       "_model_module_version": "1.5.0",
       "_model_name": "ProgressStyleModel",
       "_view_count": null,
       "_view_module": "@jupyter-widgets/base",
       "_view_module_version": "1.2.0",
       "_view_name": "StyleView",
       "bar_color": null,
       "description_width": ""
      }
     },
     "ce1c73cea3fa4074b1ddb91099d526be": {
      "model_module": "@jupyter-widgets/controls",
      "model_module_version": "1.5.0",
      "model_name": "HBoxModel",
      "state": {
       "_dom_classes": [],
       "_model_module": "@jupyter-widgets/controls",
       "_model_module_version": "1.5.0",
       "_model_name": "HBoxModel",
       "_view_count": null,
       "_view_module": "@jupyter-widgets/controls",
       "_view_module_version": "1.5.0",
       "_view_name": "HBoxView",
       "box_style": "",
       "children": [
        "IPY_MODEL_fc03338c296443dc9ad0eaf218fa3b55",
        "IPY_MODEL_fa084d99579a43c9b5d7cfc5159dbb5b",
        "IPY_MODEL_38d6578736dc4740af1d99a713fe5fed"
       ],
       "layout": "IPY_MODEL_5c55692247d5409281724c54171f9b66"
      }
     },
     "dca3cf79cff24f92aeffcebd276339c4": {
      "model_module": "@jupyter-widgets/controls",
      "model_module_version": "1.5.0",
      "model_name": "HTMLModel",
      "state": {
       "_dom_classes": [],
       "_model_module": "@jupyter-widgets/controls",
       "_model_module_version": "1.5.0",
       "_model_name": "HTMLModel",
       "_view_count": null,
       "_view_module": "@jupyter-widgets/controls",
       "_view_module_version": "1.5.0",
       "_view_name": "HTMLView",
       "description": "",
       "description_tooltip": null,
       "layout": "IPY_MODEL_6d0364def1bc45248785c50a9a3c7181",
       "placeholder": "​",
       "style": "IPY_MODEL_b5060ccb80694c4d963adfa98b653741",
       "value": " 1.26G/1.26G [00:03&lt;00:00, 422MB/s]"
      }
     },
     "de451e775f6740c5a39d916e1629d568": {
      "model_module": "@jupyter-widgets/controls",
      "model_module_version": "1.5.0",
      "model_name": "ProgressStyleModel",
      "state": {
       "_model_module": "@jupyter-widgets/controls",
       "_model_module_version": "1.5.0",
       "_model_name": "ProgressStyleModel",
       "_view_count": null,
       "_view_module": "@jupyter-widgets/base",
       "_view_module_version": "1.2.0",
       "_view_name": "StyleView",
       "bar_color": null,
       "description_width": ""
      }
     },
     "de5d45f829454c9f824dede219d9078b": {
      "model_module": "@jupyter-widgets/controls",
      "model_module_version": "1.5.0",
      "model_name": "HBoxModel",
      "state": {
       "_dom_classes": [],
       "_model_module": "@jupyter-widgets/controls",
       "_model_module_version": "1.5.0",
       "_model_name": "HBoxModel",
       "_view_count": null,
       "_view_module": "@jupyter-widgets/controls",
       "_view_module_version": "1.5.0",
       "_view_name": "HBoxView",
       "box_style": "",
       "children": [
        "IPY_MODEL_591b27edff8346fda9dbc04799c00500",
        "IPY_MODEL_6e43ce21c4d94594a2697fd8396b467c",
        "IPY_MODEL_4e099888a5164cc1a27e54b3da868b78"
       ],
       "layout": "IPY_MODEL_53c852029e4e4d0f8ab35794c77eae75"
      }
     },
     "e2b042a7ce1a4cdea02b9f9664026a19": {
      "model_module": "@jupyter-widgets/controls",
      "model_module_version": "1.5.0",
      "model_name": "HBoxModel",
      "state": {
       "_dom_classes": [],
       "_model_module": "@jupyter-widgets/controls",
       "_model_module_version": "1.5.0",
       "_model_name": "HBoxModel",
       "_view_count": null,
       "_view_module": "@jupyter-widgets/controls",
       "_view_module_version": "1.5.0",
       "_view_name": "HBoxView",
       "box_style": "",
       "children": [
        "IPY_MODEL_1c68f090381c4e86b96caf2f46b80958",
        "IPY_MODEL_9e267a00dbb348f5a92e52dfdd53735c",
        "IPY_MODEL_dca3cf79cff24f92aeffcebd276339c4"
       ],
       "layout": "IPY_MODEL_92aa7db7c86241bf86cc7dc29ea18ff5"
      }
     },
     "e4b22bad245f4fa0831d6dac5fff451f": {
      "model_module": "@jupyter-widgets/controls",
      "model_module_version": "1.5.0",
      "model_name": "DescriptionStyleModel",
      "state": {
       "_model_module": "@jupyter-widgets/controls",
       "_model_module_version": "1.5.0",
       "_model_name": "DescriptionStyleModel",
       "_view_count": null,
       "_view_module": "@jupyter-widgets/base",
       "_view_module_version": "1.2.0",
       "_view_name": "StyleView",
       "description_width": ""
      }
     },
     "e7696c0e752a4ae2bb7db378a0c41fed": {
      "model_module": "@jupyter-widgets/base",
      "model_module_version": "1.2.0",
      "model_name": "LayoutModel",
      "state": {
       "_model_module": "@jupyter-widgets/base",
       "_model_module_version": "1.2.0",
       "_model_name": "LayoutModel",
       "_view_count": null,
       "_view_module": "@jupyter-widgets/base",
       "_view_module_version": "1.2.0",
       "_view_name": "LayoutView",
       "align_content": null,
       "align_items": null,
       "align_self": null,
       "border": null,
       "bottom": null,
       "display": null,
       "flex": null,
       "flex_flow": null,
       "grid_area": null,
       "grid_auto_columns": null,
       "grid_auto_flow": null,
       "grid_auto_rows": null,
       "grid_column": null,
       "grid_gap": null,
       "grid_row": null,
       "grid_template_areas": null,
       "grid_template_columns": null,
       "grid_template_rows": null,
       "height": null,
       "justify_content": null,
       "justify_items": null,
       "left": null,
       "margin": null,
       "max_height": null,
       "max_width": null,
       "min_height": null,
       "min_width": null,
       "object_fit": null,
       "object_position": null,
       "order": null,
       "overflow": null,
       "overflow_x": null,
       "overflow_y": null,
       "padding": null,
       "right": null,
       "top": null,
       "visibility": null,
       "width": null
      }
     },
     "ea1da8842f754afb9efbd5af3484f786": {
      "model_module": "@jupyter-widgets/base",
      "model_module_version": "1.2.0",
      "model_name": "LayoutModel",
      "state": {
       "_model_module": "@jupyter-widgets/base",
       "_model_module_version": "1.2.0",
       "_model_name": "LayoutModel",
       "_view_count": null,
       "_view_module": "@jupyter-widgets/base",
       "_view_module_version": "1.2.0",
       "_view_name": "LayoutView",
       "align_content": null,
       "align_items": null,
       "align_self": null,
       "border": null,
       "bottom": null,
       "display": null,
       "flex": null,
       "flex_flow": null,
       "grid_area": null,
       "grid_auto_columns": null,
       "grid_auto_flow": null,
       "grid_auto_rows": null,
       "grid_column": null,
       "grid_gap": null,
       "grid_row": null,
       "grid_template_areas": null,
       "grid_template_columns": null,
       "grid_template_rows": null,
       "height": null,
       "justify_content": null,
       "justify_items": null,
       "left": null,
       "margin": null,
       "max_height": null,
       "max_width": null,
       "min_height": null,
       "min_width": null,
       "object_fit": null,
       "object_position": null,
       "order": null,
       "overflow": null,
       "overflow_x": null,
       "overflow_y": null,
       "padding": null,
       "right": null,
       "top": null,
       "visibility": null,
       "width": null
      }
     },
     "f068d6809dcc4ac888d6c17c5e63356e": {
      "model_module": "@jupyter-widgets/controls",
      "model_module_version": "1.5.0",
      "model_name": "DescriptionStyleModel",
      "state": {
       "_model_module": "@jupyter-widgets/controls",
       "_model_module_version": "1.5.0",
       "_model_name": "DescriptionStyleModel",
       "_view_count": null,
       "_view_module": "@jupyter-widgets/base",
       "_view_module_version": "1.2.0",
       "_view_name": "StyleView",
       "description_width": ""
      }
     },
     "f1dc3bc366e44b59a44bdfa42fe8d458": {
      "model_module": "@jupyter-widgets/controls",
      "model_module_version": "1.5.0",
      "model_name": "ProgressStyleModel",
      "state": {
       "_model_module": "@jupyter-widgets/controls",
       "_model_module_version": "1.5.0",
       "_model_name": "ProgressStyleModel",
       "_view_count": null,
       "_view_module": "@jupyter-widgets/base",
       "_view_module_version": "1.2.0",
       "_view_name": "StyleView",
       "bar_color": null,
       "description_width": ""
      }
     },
     "f59f156d4ae8400c9d38319bc528260e": {
      "model_module": "@jupyter-widgets/base",
      "model_module_version": "1.2.0",
      "model_name": "LayoutModel",
      "state": {
       "_model_module": "@jupyter-widgets/base",
       "_model_module_version": "1.2.0",
       "_model_name": "LayoutModel",
       "_view_count": null,
       "_view_module": "@jupyter-widgets/base",
       "_view_module_version": "1.2.0",
       "_view_name": "LayoutView",
       "align_content": null,
       "align_items": null,
       "align_self": null,
       "border": null,
       "bottom": null,
       "display": null,
       "flex": null,
       "flex_flow": null,
       "grid_area": null,
       "grid_auto_columns": null,
       "grid_auto_flow": null,
       "grid_auto_rows": null,
       "grid_column": null,
       "grid_gap": null,
       "grid_row": null,
       "grid_template_areas": null,
       "grid_template_columns": null,
       "grid_template_rows": null,
       "height": null,
       "justify_content": null,
       "justify_items": null,
       "left": null,
       "margin": null,
       "max_height": null,
       "max_width": null,
       "min_height": null,
       "min_width": null,
       "object_fit": null,
       "object_position": null,
       "order": null,
       "overflow": null,
       "overflow_x": null,
       "overflow_y": null,
       "padding": null,
       "right": null,
       "top": null,
       "visibility": null,
       "width": null
      }
     },
     "f5d81d6b28024a1eb83d5d71cbbf38ac": {
      "model_module": "@jupyter-widgets/controls",
      "model_module_version": "1.5.0",
      "model_name": "HBoxModel",
      "state": {
       "_dom_classes": [],
       "_model_module": "@jupyter-widgets/controls",
       "_model_module_version": "1.5.0",
       "_model_name": "HBoxModel",
       "_view_count": null,
       "_view_module": "@jupyter-widgets/controls",
       "_view_module_version": "1.5.0",
       "_view_name": "HBoxView",
       "box_style": "",
       "children": [
        "IPY_MODEL_a4a41d85668b4a67ae39e36df6bd801b",
        "IPY_MODEL_53d053c9f6db412d9557702315e0af03",
        "IPY_MODEL_233b780cc7da4224bdaa8350d2ab8212"
       ],
       "layout": "IPY_MODEL_f7931e33461f4559ba94be39690b780d"
      }
     },
     "f7931e33461f4559ba94be39690b780d": {
      "model_module": "@jupyter-widgets/base",
      "model_module_version": "1.2.0",
      "model_name": "LayoutModel",
      "state": {
       "_model_module": "@jupyter-widgets/base",
       "_model_module_version": "1.2.0",
       "_model_name": "LayoutModel",
       "_view_count": null,
       "_view_module": "@jupyter-widgets/base",
       "_view_module_version": "1.2.0",
       "_view_name": "LayoutView",
       "align_content": null,
       "align_items": null,
       "align_self": null,
       "border": null,
       "bottom": null,
       "display": null,
       "flex": null,
       "flex_flow": null,
       "grid_area": null,
       "grid_auto_columns": null,
       "grid_auto_flow": null,
       "grid_auto_rows": null,
       "grid_column": null,
       "grid_gap": null,
       "grid_row": null,
       "grid_template_areas": null,
       "grid_template_columns": null,
       "grid_template_rows": null,
       "height": null,
       "justify_content": null,
       "justify_items": null,
       "left": null,
       "margin": null,
       "max_height": null,
       "max_width": null,
       "min_height": null,
       "min_width": null,
       "object_fit": null,
       "object_position": null,
       "order": null,
       "overflow": null,
       "overflow_x": null,
       "overflow_y": null,
       "padding": null,
       "right": null,
       "top": null,
       "visibility": null,
       "width": null
      }
     },
     "f925b0c3eb764f2fa826beb49d38af65": {
      "model_module": "@jupyter-widgets/base",
      "model_module_version": "1.2.0",
      "model_name": "LayoutModel",
      "state": {
       "_model_module": "@jupyter-widgets/base",
       "_model_module_version": "1.2.0",
       "_model_name": "LayoutModel",
       "_view_count": null,
       "_view_module": "@jupyter-widgets/base",
       "_view_module_version": "1.2.0",
       "_view_name": "LayoutView",
       "align_content": null,
       "align_items": null,
       "align_self": null,
       "border": null,
       "bottom": null,
       "display": null,
       "flex": null,
       "flex_flow": null,
       "grid_area": null,
       "grid_auto_columns": null,
       "grid_auto_flow": null,
       "grid_auto_rows": null,
       "grid_column": null,
       "grid_gap": null,
       "grid_row": null,
       "grid_template_areas": null,
       "grid_template_columns": null,
       "grid_template_rows": null,
       "height": null,
       "justify_content": null,
       "justify_items": null,
       "left": null,
       "margin": null,
       "max_height": null,
       "max_width": null,
       "min_height": null,
       "min_width": null,
       "object_fit": null,
       "object_position": null,
       "order": null,
       "overflow": null,
       "overflow_x": null,
       "overflow_y": null,
       "padding": null,
       "right": null,
       "top": null,
       "visibility": null,
       "width": null
      }
     },
     "fa084d99579a43c9b5d7cfc5159dbb5b": {
      "model_module": "@jupyter-widgets/controls",
      "model_module_version": "1.5.0",
      "model_name": "FloatProgressModel",
      "state": {
       "_dom_classes": [],
       "_model_module": "@jupyter-widgets/controls",
       "_model_module_version": "1.5.0",
       "_model_name": "FloatProgressModel",
       "_view_count": null,
       "_view_module": "@jupyter-widgets/controls",
       "_view_module_version": "1.5.0",
       "_view_name": "ProgressView",
       "bar_style": "success",
       "description": "",
       "description_tooltip": null,
       "layout": "IPY_MODEL_4dd01aeb68ef4d3aae064e96efd407b8",
       "max": 1376,
       "min": 0,
       "orientation": "horizontal",
       "style": "IPY_MODEL_f1dc3bc366e44b59a44bdfa42fe8d458",
       "value": 1376
      }
     },
     "fbb2285f6a344397bf34814978d9e604": {
      "model_module": "@jupyter-widgets/controls",
      "model_module_version": "1.5.0",
      "model_name": "DescriptionStyleModel",
      "state": {
       "_model_module": "@jupyter-widgets/controls",
       "_model_module_version": "1.5.0",
       "_model_name": "DescriptionStyleModel",
       "_view_count": null,
       "_view_module": "@jupyter-widgets/base",
       "_view_module_version": "1.2.0",
       "_view_name": "StyleView",
       "description_width": ""
      }
     },
     "fc03338c296443dc9ad0eaf218fa3b55": {
      "model_module": "@jupyter-widgets/controls",
      "model_module_version": "1.5.0",
      "model_name": "HTMLModel",
      "state": {
       "_dom_classes": [],
       "_model_module": "@jupyter-widgets/controls",
       "_model_module_version": "1.5.0",
       "_model_name": "HTMLModel",
       "_view_count": null,
       "_view_module": "@jupyter-widgets/controls",
       "_view_module_version": "1.5.0",
       "_view_name": "HTMLView",
       "description": "",
       "description_tooltip": null,
       "layout": "IPY_MODEL_88a5be0fb3ed40df9b476947d8c4e4fd",
       "placeholder": "​",
       "style": "IPY_MODEL_b7a3f3717f854faf9bd9850385763d2c",
       "value": "config.json: 100%"
      }
     }
    },
    "version_major": 2,
    "version_minor": 0
   }
  }
 },
 "nbformat": 4,
 "nbformat_minor": 5
}
